{
  "cells": [
    {
      "cell_type": "code",
      "execution_count": 488,
      "metadata": {
        "id": "eG0GixL9qtM8"
      },
      "outputs": [],
      "source": [
        "import numpy as np\n",
        "import pandas as pd\n",
        "import seaborn as sns\n",
        "import matplotlib.pyplot as plt\n",
        "from sklearn.preprocessing import StandardScaler\n",
        "from sklearn.metrics import accuracy_score\n",
        "from sklearn.model_selection import train_test_split\n",
        "from sklearn.linear_model import LinearRegression\n",
        "from sklearn.neighbors import KNeighborsRegressor\n",
        "from sklearn.svm import SVR\n",
        "from sklearn.tree import DecisionTreeRegressor\n",
        "from sklearn.ensemble import BaggingRegressor\n",
        "from sklearn.ensemble import AdaBoostRegressor\n",
        "from sklearn.ensemble import GradientBoostingRegressor\n",
        "from sklearn.ensemble import RandomForestRegressor"
      ]
    },
    {
      "cell_type": "code",
      "execution_count": 489,
      "metadata": {
        "id": "xVnP7R_3q7jY"
      },
      "outputs": [],
      "source": [
        "df=pd.read_csv(\"https://raw.githubusercontent.com/Premalatha-success/Datasets/main/TaxiFare.csv\")"
      ]
    },
    {
      "cell_type": "code",
      "execution_count": 490,
      "metadata": {
        "colab": {
          "base_uri": "https://localhost:8080/",
          "height": 206
        },
        "id": "uIyzFK0yriRI",
        "outputId": "4ac2ba54-52ea-45bf-f539-0fef185bed12"
      },
      "outputs": [
        {
          "output_type": "execute_result",
          "data": {
            "text/plain": [
              "  unique_id  amount      date_time_of_pickup  longitude_of_pickup  \\\n",
              "0   26:21.0     4.5  2009-06-15 17:26:21 UTC           -73.844311   \n",
              "1   52:16.0    16.9  2010-01-05 16:52:16 UTC           -74.016048   \n",
              "2   35:00.0     5.7  2011-08-18 00:35:00 UTC           -73.982738   \n",
              "3   30:42.0     7.7  2012-04-21 04:30:42 UTC           -73.987130   \n",
              "4   51:00.0     5.3  2010-03-09 07:51:00 UTC           -73.968095   \n",
              "\n",
              "   latitude_of_pickup  longitude_of_dropoff  latitude_of_dropoff  \\\n",
              "0           40.721319            -73.841610            40.712278   \n",
              "1           40.711303            -73.979268            40.782004   \n",
              "2           40.761270            -73.991242            40.750562   \n",
              "3           40.733143            -73.991567            40.758092   \n",
              "4           40.768008            -73.956655            40.783762   \n",
              "\n",
              "   no_of_passenger  \n",
              "0                1  \n",
              "1                1  \n",
              "2                2  \n",
              "3                1  \n",
              "4                1  "
            ],
            "text/html": [
              "\n",
              "  <div id=\"df-be94c32f-a208-4822-8b1c-1d3ca193faff\">\n",
              "    <div class=\"colab-df-container\">\n",
              "      <div>\n",
              "<style scoped>\n",
              "    .dataframe tbody tr th:only-of-type {\n",
              "        vertical-align: middle;\n",
              "    }\n",
              "\n",
              "    .dataframe tbody tr th {\n",
              "        vertical-align: top;\n",
              "    }\n",
              "\n",
              "    .dataframe thead th {\n",
              "        text-align: right;\n",
              "    }\n",
              "</style>\n",
              "<table border=\"1\" class=\"dataframe\">\n",
              "  <thead>\n",
              "    <tr style=\"text-align: right;\">\n",
              "      <th></th>\n",
              "      <th>unique_id</th>\n",
              "      <th>amount</th>\n",
              "      <th>date_time_of_pickup</th>\n",
              "      <th>longitude_of_pickup</th>\n",
              "      <th>latitude_of_pickup</th>\n",
              "      <th>longitude_of_dropoff</th>\n",
              "      <th>latitude_of_dropoff</th>\n",
              "      <th>no_of_passenger</th>\n",
              "    </tr>\n",
              "  </thead>\n",
              "  <tbody>\n",
              "    <tr>\n",
              "      <th>0</th>\n",
              "      <td>26:21.0</td>\n",
              "      <td>4.5</td>\n",
              "      <td>2009-06-15 17:26:21 UTC</td>\n",
              "      <td>-73.844311</td>\n",
              "      <td>40.721319</td>\n",
              "      <td>-73.841610</td>\n",
              "      <td>40.712278</td>\n",
              "      <td>1</td>\n",
              "    </tr>\n",
              "    <tr>\n",
              "      <th>1</th>\n",
              "      <td>52:16.0</td>\n",
              "      <td>16.9</td>\n",
              "      <td>2010-01-05 16:52:16 UTC</td>\n",
              "      <td>-74.016048</td>\n",
              "      <td>40.711303</td>\n",
              "      <td>-73.979268</td>\n",
              "      <td>40.782004</td>\n",
              "      <td>1</td>\n",
              "    </tr>\n",
              "    <tr>\n",
              "      <th>2</th>\n",
              "      <td>35:00.0</td>\n",
              "      <td>5.7</td>\n",
              "      <td>2011-08-18 00:35:00 UTC</td>\n",
              "      <td>-73.982738</td>\n",
              "      <td>40.761270</td>\n",
              "      <td>-73.991242</td>\n",
              "      <td>40.750562</td>\n",
              "      <td>2</td>\n",
              "    </tr>\n",
              "    <tr>\n",
              "      <th>3</th>\n",
              "      <td>30:42.0</td>\n",
              "      <td>7.7</td>\n",
              "      <td>2012-04-21 04:30:42 UTC</td>\n",
              "      <td>-73.987130</td>\n",
              "      <td>40.733143</td>\n",
              "      <td>-73.991567</td>\n",
              "      <td>40.758092</td>\n",
              "      <td>1</td>\n",
              "    </tr>\n",
              "    <tr>\n",
              "      <th>4</th>\n",
              "      <td>51:00.0</td>\n",
              "      <td>5.3</td>\n",
              "      <td>2010-03-09 07:51:00 UTC</td>\n",
              "      <td>-73.968095</td>\n",
              "      <td>40.768008</td>\n",
              "      <td>-73.956655</td>\n",
              "      <td>40.783762</td>\n",
              "      <td>1</td>\n",
              "    </tr>\n",
              "  </tbody>\n",
              "</table>\n",
              "</div>\n",
              "      <button class=\"colab-df-convert\" onclick=\"convertToInteractive('df-be94c32f-a208-4822-8b1c-1d3ca193faff')\"\n",
              "              title=\"Convert this dataframe to an interactive table.\"\n",
              "              style=\"display:none;\">\n",
              "        \n",
              "  <svg xmlns=\"http://www.w3.org/2000/svg\" height=\"24px\"viewBox=\"0 0 24 24\"\n",
              "       width=\"24px\">\n",
              "    <path d=\"M0 0h24v24H0V0z\" fill=\"none\"/>\n",
              "    <path d=\"M18.56 5.44l.94 2.06.94-2.06 2.06-.94-2.06-.94-.94-2.06-.94 2.06-2.06.94zm-11 1L8.5 8.5l.94-2.06 2.06-.94-2.06-.94L8.5 2.5l-.94 2.06-2.06.94zm10 10l.94 2.06.94-2.06 2.06-.94-2.06-.94-.94-2.06-.94 2.06-2.06.94z\"/><path d=\"M17.41 7.96l-1.37-1.37c-.4-.4-.92-.59-1.43-.59-.52 0-1.04.2-1.43.59L10.3 9.45l-7.72 7.72c-.78.78-.78 2.05 0 2.83L4 21.41c.39.39.9.59 1.41.59.51 0 1.02-.2 1.41-.59l7.78-7.78 2.81-2.81c.8-.78.8-2.07 0-2.86zM5.41 20L4 18.59l7.72-7.72 1.47 1.35L5.41 20z\"/>\n",
              "  </svg>\n",
              "      </button>\n",
              "      \n",
              "  <style>\n",
              "    .colab-df-container {\n",
              "      display:flex;\n",
              "      flex-wrap:wrap;\n",
              "      gap: 12px;\n",
              "    }\n",
              "\n",
              "    .colab-df-convert {\n",
              "      background-color: #E8F0FE;\n",
              "      border: none;\n",
              "      border-radius: 50%;\n",
              "      cursor: pointer;\n",
              "      display: none;\n",
              "      fill: #1967D2;\n",
              "      height: 32px;\n",
              "      padding: 0 0 0 0;\n",
              "      width: 32px;\n",
              "    }\n",
              "\n",
              "    .colab-df-convert:hover {\n",
              "      background-color: #E2EBFA;\n",
              "      box-shadow: 0px 1px 2px rgba(60, 64, 67, 0.3), 0px 1px 3px 1px rgba(60, 64, 67, 0.15);\n",
              "      fill: #174EA6;\n",
              "    }\n",
              "\n",
              "    [theme=dark] .colab-df-convert {\n",
              "      background-color: #3B4455;\n",
              "      fill: #D2E3FC;\n",
              "    }\n",
              "\n",
              "    [theme=dark] .colab-df-convert:hover {\n",
              "      background-color: #434B5C;\n",
              "      box-shadow: 0px 1px 3px 1px rgba(0, 0, 0, 0.15);\n",
              "      filter: drop-shadow(0px 1px 2px rgba(0, 0, 0, 0.3));\n",
              "      fill: #FFFFFF;\n",
              "    }\n",
              "  </style>\n",
              "\n",
              "      <script>\n",
              "        const buttonEl =\n",
              "          document.querySelector('#df-be94c32f-a208-4822-8b1c-1d3ca193faff button.colab-df-convert');\n",
              "        buttonEl.style.display =\n",
              "          google.colab.kernel.accessAllowed ? 'block' : 'none';\n",
              "\n",
              "        async function convertToInteractive(key) {\n",
              "          const element = document.querySelector('#df-be94c32f-a208-4822-8b1c-1d3ca193faff');\n",
              "          const dataTable =\n",
              "            await google.colab.kernel.invokeFunction('convertToInteractive',\n",
              "                                                     [key], {});\n",
              "          if (!dataTable) return;\n",
              "\n",
              "          const docLinkHtml = 'Like what you see? Visit the ' +\n",
              "            '<a target=\"_blank\" href=https://colab.research.google.com/notebooks/data_table.ipynb>data table notebook</a>'\n",
              "            + ' to learn more about interactive tables.';\n",
              "          element.innerHTML = '';\n",
              "          dataTable['output_type'] = 'display_data';\n",
              "          await google.colab.output.renderOutput(dataTable, element);\n",
              "          const docLink = document.createElement('div');\n",
              "          docLink.innerHTML = docLinkHtml;\n",
              "          element.appendChild(docLink);\n",
              "        }\n",
              "      </script>\n",
              "    </div>\n",
              "  </div>\n",
              "  "
            ]
          },
          "metadata": {},
          "execution_count": 490
        }
      ],
      "source": [
        "df.head()"
      ]
    },
    {
      "cell_type": "code",
      "execution_count": 491,
      "metadata": {
        "colab": {
          "base_uri": "https://localhost:8080/"
        },
        "id": "VB0hUlS7rjRF",
        "outputId": "7c17b68b-9e1d-4daa-f0cd-b8247c81bb4b"
      },
      "outputs": [
        {
          "output_type": "execute_result",
          "data": {
            "text/plain": [
              "(50000, 8)"
            ]
          },
          "metadata": {},
          "execution_count": 491
        }
      ],
      "source": [
        "df.shape"
      ]
    },
    {
      "cell_type": "code",
      "execution_count": 492,
      "metadata": {
        "colab": {
          "base_uri": "https://localhost:8080/",
          "height": 300
        },
        "id": "EtjrPI92rlcT",
        "outputId": "4a2a389c-407e-4b84-9fea-519035e87944"
      },
      "outputs": [
        {
          "output_type": "execute_result",
          "data": {
            "text/plain": [
              "             amount  longitude_of_pickup  latitude_of_pickup  \\\n",
              "count  50000.000000         50000.000000        50000.000000   \n",
              "mean      11.364171           -72.509756           39.933759   \n",
              "std        9.685557            10.393860            6.224857   \n",
              "min       -5.000000           -75.423848          -74.006893   \n",
              "25%        6.000000           -73.992062           40.734880   \n",
              "50%        8.500000           -73.981840           40.752678   \n",
              "75%       12.500000           -73.967148           40.767360   \n",
              "max      200.000000            40.783472          401.083332   \n",
              "\n",
              "       longitude_of_dropoff  latitude_of_dropoff  no_of_passenger  \n",
              "count          50000.000000         50000.000000     50000.000000  \n",
              "mean             -72.504616            39.926251         1.667840  \n",
              "std               10.407570             6.014737         1.289195  \n",
              "min              -84.654241           -74.006377         0.000000  \n",
              "25%              -73.991152            40.734372         1.000000  \n",
              "50%              -73.980082            40.753372         1.000000  \n",
              "75%              -73.963584            40.768167         2.000000  \n",
              "max               40.851027            43.415190         6.000000  "
            ],
            "text/html": [
              "\n",
              "  <div id=\"df-da94ed6f-104b-4026-a797-aa8062fe360b\">\n",
              "    <div class=\"colab-df-container\">\n",
              "      <div>\n",
              "<style scoped>\n",
              "    .dataframe tbody tr th:only-of-type {\n",
              "        vertical-align: middle;\n",
              "    }\n",
              "\n",
              "    .dataframe tbody tr th {\n",
              "        vertical-align: top;\n",
              "    }\n",
              "\n",
              "    .dataframe thead th {\n",
              "        text-align: right;\n",
              "    }\n",
              "</style>\n",
              "<table border=\"1\" class=\"dataframe\">\n",
              "  <thead>\n",
              "    <tr style=\"text-align: right;\">\n",
              "      <th></th>\n",
              "      <th>amount</th>\n",
              "      <th>longitude_of_pickup</th>\n",
              "      <th>latitude_of_pickup</th>\n",
              "      <th>longitude_of_dropoff</th>\n",
              "      <th>latitude_of_dropoff</th>\n",
              "      <th>no_of_passenger</th>\n",
              "    </tr>\n",
              "  </thead>\n",
              "  <tbody>\n",
              "    <tr>\n",
              "      <th>count</th>\n",
              "      <td>50000.000000</td>\n",
              "      <td>50000.000000</td>\n",
              "      <td>50000.000000</td>\n",
              "      <td>50000.000000</td>\n",
              "      <td>50000.000000</td>\n",
              "      <td>50000.000000</td>\n",
              "    </tr>\n",
              "    <tr>\n",
              "      <th>mean</th>\n",
              "      <td>11.364171</td>\n",
              "      <td>-72.509756</td>\n",
              "      <td>39.933759</td>\n",
              "      <td>-72.504616</td>\n",
              "      <td>39.926251</td>\n",
              "      <td>1.667840</td>\n",
              "    </tr>\n",
              "    <tr>\n",
              "      <th>std</th>\n",
              "      <td>9.685557</td>\n",
              "      <td>10.393860</td>\n",
              "      <td>6.224857</td>\n",
              "      <td>10.407570</td>\n",
              "      <td>6.014737</td>\n",
              "      <td>1.289195</td>\n",
              "    </tr>\n",
              "    <tr>\n",
              "      <th>min</th>\n",
              "      <td>-5.000000</td>\n",
              "      <td>-75.423848</td>\n",
              "      <td>-74.006893</td>\n",
              "      <td>-84.654241</td>\n",
              "      <td>-74.006377</td>\n",
              "      <td>0.000000</td>\n",
              "    </tr>\n",
              "    <tr>\n",
              "      <th>25%</th>\n",
              "      <td>6.000000</td>\n",
              "      <td>-73.992062</td>\n",
              "      <td>40.734880</td>\n",
              "      <td>-73.991152</td>\n",
              "      <td>40.734372</td>\n",
              "      <td>1.000000</td>\n",
              "    </tr>\n",
              "    <tr>\n",
              "      <th>50%</th>\n",
              "      <td>8.500000</td>\n",
              "      <td>-73.981840</td>\n",
              "      <td>40.752678</td>\n",
              "      <td>-73.980082</td>\n",
              "      <td>40.753372</td>\n",
              "      <td>1.000000</td>\n",
              "    </tr>\n",
              "    <tr>\n",
              "      <th>75%</th>\n",
              "      <td>12.500000</td>\n",
              "      <td>-73.967148</td>\n",
              "      <td>40.767360</td>\n",
              "      <td>-73.963584</td>\n",
              "      <td>40.768167</td>\n",
              "      <td>2.000000</td>\n",
              "    </tr>\n",
              "    <tr>\n",
              "      <th>max</th>\n",
              "      <td>200.000000</td>\n",
              "      <td>40.783472</td>\n",
              "      <td>401.083332</td>\n",
              "      <td>40.851027</td>\n",
              "      <td>43.415190</td>\n",
              "      <td>6.000000</td>\n",
              "    </tr>\n",
              "  </tbody>\n",
              "</table>\n",
              "</div>\n",
              "      <button class=\"colab-df-convert\" onclick=\"convertToInteractive('df-da94ed6f-104b-4026-a797-aa8062fe360b')\"\n",
              "              title=\"Convert this dataframe to an interactive table.\"\n",
              "              style=\"display:none;\">\n",
              "        \n",
              "  <svg xmlns=\"http://www.w3.org/2000/svg\" height=\"24px\"viewBox=\"0 0 24 24\"\n",
              "       width=\"24px\">\n",
              "    <path d=\"M0 0h24v24H0V0z\" fill=\"none\"/>\n",
              "    <path d=\"M18.56 5.44l.94 2.06.94-2.06 2.06-.94-2.06-.94-.94-2.06-.94 2.06-2.06.94zm-11 1L8.5 8.5l.94-2.06 2.06-.94-2.06-.94L8.5 2.5l-.94 2.06-2.06.94zm10 10l.94 2.06.94-2.06 2.06-.94-2.06-.94-.94-2.06-.94 2.06-2.06.94z\"/><path d=\"M17.41 7.96l-1.37-1.37c-.4-.4-.92-.59-1.43-.59-.52 0-1.04.2-1.43.59L10.3 9.45l-7.72 7.72c-.78.78-.78 2.05 0 2.83L4 21.41c.39.39.9.59 1.41.59.51 0 1.02-.2 1.41-.59l7.78-7.78 2.81-2.81c.8-.78.8-2.07 0-2.86zM5.41 20L4 18.59l7.72-7.72 1.47 1.35L5.41 20z\"/>\n",
              "  </svg>\n",
              "      </button>\n",
              "      \n",
              "  <style>\n",
              "    .colab-df-container {\n",
              "      display:flex;\n",
              "      flex-wrap:wrap;\n",
              "      gap: 12px;\n",
              "    }\n",
              "\n",
              "    .colab-df-convert {\n",
              "      background-color: #E8F0FE;\n",
              "      border: none;\n",
              "      border-radius: 50%;\n",
              "      cursor: pointer;\n",
              "      display: none;\n",
              "      fill: #1967D2;\n",
              "      height: 32px;\n",
              "      padding: 0 0 0 0;\n",
              "      width: 32px;\n",
              "    }\n",
              "\n",
              "    .colab-df-convert:hover {\n",
              "      background-color: #E2EBFA;\n",
              "      box-shadow: 0px 1px 2px rgba(60, 64, 67, 0.3), 0px 1px 3px 1px rgba(60, 64, 67, 0.15);\n",
              "      fill: #174EA6;\n",
              "    }\n",
              "\n",
              "    [theme=dark] .colab-df-convert {\n",
              "      background-color: #3B4455;\n",
              "      fill: #D2E3FC;\n",
              "    }\n",
              "\n",
              "    [theme=dark] .colab-df-convert:hover {\n",
              "      background-color: #434B5C;\n",
              "      box-shadow: 0px 1px 3px 1px rgba(0, 0, 0, 0.15);\n",
              "      filter: drop-shadow(0px 1px 2px rgba(0, 0, 0, 0.3));\n",
              "      fill: #FFFFFF;\n",
              "    }\n",
              "  </style>\n",
              "\n",
              "      <script>\n",
              "        const buttonEl =\n",
              "          document.querySelector('#df-da94ed6f-104b-4026-a797-aa8062fe360b button.colab-df-convert');\n",
              "        buttonEl.style.display =\n",
              "          google.colab.kernel.accessAllowed ? 'block' : 'none';\n",
              "\n",
              "        async function convertToInteractive(key) {\n",
              "          const element = document.querySelector('#df-da94ed6f-104b-4026-a797-aa8062fe360b');\n",
              "          const dataTable =\n",
              "            await google.colab.kernel.invokeFunction('convertToInteractive',\n",
              "                                                     [key], {});\n",
              "          if (!dataTable) return;\n",
              "\n",
              "          const docLinkHtml = 'Like what you see? Visit the ' +\n",
              "            '<a target=\"_blank\" href=https://colab.research.google.com/notebooks/data_table.ipynb>data table notebook</a>'\n",
              "            + ' to learn more about interactive tables.';\n",
              "          element.innerHTML = '';\n",
              "          dataTable['output_type'] = 'display_data';\n",
              "          await google.colab.output.renderOutput(dataTable, element);\n",
              "          const docLink = document.createElement('div');\n",
              "          docLink.innerHTML = docLinkHtml;\n",
              "          element.appendChild(docLink);\n",
              "        }\n",
              "      </script>\n",
              "    </div>\n",
              "  </div>\n",
              "  "
            ]
          },
          "metadata": {},
          "execution_count": 492
        }
      ],
      "source": [
        "df.describe()"
      ]
    },
    {
      "cell_type": "code",
      "execution_count": 493,
      "metadata": {
        "colab": {
          "base_uri": "https://localhost:8080/"
        },
        "id": "ebLM-rqIrmdA",
        "outputId": "fbfa4bf9-03ed-4ed8-b6e6-a6ea851c67d5"
      },
      "outputs": [
        {
          "output_type": "execute_result",
          "data": {
            "text/plain": [
              "unique_id               0\n",
              "amount                  0\n",
              "date_time_of_pickup     0\n",
              "longitude_of_pickup     0\n",
              "latitude_of_pickup      0\n",
              "longitude_of_dropoff    0\n",
              "latitude_of_dropoff     0\n",
              "no_of_passenger         0\n",
              "dtype: int64"
            ]
          },
          "metadata": {},
          "execution_count": 493
        }
      ],
      "source": [
        "df.isnull().sum()"
      ]
    },
    {
      "cell_type": "code",
      "execution_count": 494,
      "metadata": {
        "colab": {
          "base_uri": "https://localhost:8080/"
        },
        "id": "vNH_s9Qar2Mm",
        "outputId": "cd6d01bd-b4f7-4bde-c8c8-72e4813ec912"
      },
      "outputs": [
        {
          "output_type": "stream",
          "name": "stdout",
          "text": [
            "<class 'pandas.core.frame.DataFrame'>\n",
            "RangeIndex: 50000 entries, 0 to 49999\n",
            "Data columns (total 8 columns):\n",
            " #   Column                Non-Null Count  Dtype  \n",
            "---  ------                --------------  -----  \n",
            " 0   unique_id             50000 non-null  object \n",
            " 1   amount                50000 non-null  float64\n",
            " 2   date_time_of_pickup   50000 non-null  object \n",
            " 3   longitude_of_pickup   50000 non-null  float64\n",
            " 4   latitude_of_pickup    50000 non-null  float64\n",
            " 5   longitude_of_dropoff  50000 non-null  float64\n",
            " 6   latitude_of_dropoff   50000 non-null  float64\n",
            " 7   no_of_passenger       50000 non-null  int64  \n",
            "dtypes: float64(5), int64(1), object(2)\n",
            "memory usage: 3.1+ MB\n"
          ]
        }
      ],
      "source": [
        "df.info()"
      ]
    },
    {
      "cell_type": "code",
      "execution_count": 495,
      "metadata": {
        "id": "ti7u7FVKroqF"
      },
      "outputs": [],
      "source": [
        "# There is no missing value so going for correlations directly"
      ]
    },
    {
      "cell_type": "code",
      "execution_count": 496,
      "metadata": {
        "id": "qUMJejCSsP7j"
      },
      "outputs": [],
      "source": [
        "corr=df.corr()"
      ]
    },
    {
      "cell_type": "code",
      "execution_count": 497,
      "metadata": {
        "colab": {
          "base_uri": "https://localhost:8080/",
          "height": 237
        },
        "id": "kBQrko6OsW-s",
        "outputId": "9e9e21b9-3870-4c83-a112-df33bf866602"
      },
      "outputs": [
        {
          "output_type": "execute_result",
          "data": {
            "text/plain": [
              "                        amount  longitude_of_pickup  latitude_of_pickup  \\\n",
              "amount                1.000000             0.005944           -0.007338   \n",
              "longitude_of_pickup   0.005944             1.000000           -0.950588   \n",
              "latitude_of_pickup   -0.007338            -0.950588            1.000000   \n",
              "longitude_of_dropoff  0.004286             0.956131           -0.911123   \n",
              "latitude_of_dropoff  -0.005442            -0.946968            0.928189   \n",
              "no_of_passenger       0.016583            -0.005604            0.003237   \n",
              "\n",
              "                      longitude_of_dropoff  latitude_of_dropoff  \\\n",
              "amount                            0.004286            -0.005442   \n",
              "longitude_of_pickup               0.956131            -0.946968   \n",
              "latitude_of_pickup               -0.911123             0.928189   \n",
              "longitude_of_dropoff              1.000000            -0.982117   \n",
              "latitude_of_dropoff              -0.982117             1.000000   \n",
              "no_of_passenger                  -0.004936             0.002958   \n",
              "\n",
              "                      no_of_passenger  \n",
              "amount                       0.016583  \n",
              "longitude_of_pickup         -0.005604  \n",
              "latitude_of_pickup           0.003237  \n",
              "longitude_of_dropoff        -0.004936  \n",
              "latitude_of_dropoff          0.002958  \n",
              "no_of_passenger              1.000000  "
            ],
            "text/html": [
              "\n",
              "  <div id=\"df-e3bc5dfe-29fa-461a-a7df-22453f20504e\">\n",
              "    <div class=\"colab-df-container\">\n",
              "      <div>\n",
              "<style scoped>\n",
              "    .dataframe tbody tr th:only-of-type {\n",
              "        vertical-align: middle;\n",
              "    }\n",
              "\n",
              "    .dataframe tbody tr th {\n",
              "        vertical-align: top;\n",
              "    }\n",
              "\n",
              "    .dataframe thead th {\n",
              "        text-align: right;\n",
              "    }\n",
              "</style>\n",
              "<table border=\"1\" class=\"dataframe\">\n",
              "  <thead>\n",
              "    <tr style=\"text-align: right;\">\n",
              "      <th></th>\n",
              "      <th>amount</th>\n",
              "      <th>longitude_of_pickup</th>\n",
              "      <th>latitude_of_pickup</th>\n",
              "      <th>longitude_of_dropoff</th>\n",
              "      <th>latitude_of_dropoff</th>\n",
              "      <th>no_of_passenger</th>\n",
              "    </tr>\n",
              "  </thead>\n",
              "  <tbody>\n",
              "    <tr>\n",
              "      <th>amount</th>\n",
              "      <td>1.000000</td>\n",
              "      <td>0.005944</td>\n",
              "      <td>-0.007338</td>\n",
              "      <td>0.004286</td>\n",
              "      <td>-0.005442</td>\n",
              "      <td>0.016583</td>\n",
              "    </tr>\n",
              "    <tr>\n",
              "      <th>longitude_of_pickup</th>\n",
              "      <td>0.005944</td>\n",
              "      <td>1.000000</td>\n",
              "      <td>-0.950588</td>\n",
              "      <td>0.956131</td>\n",
              "      <td>-0.946968</td>\n",
              "      <td>-0.005604</td>\n",
              "    </tr>\n",
              "    <tr>\n",
              "      <th>latitude_of_pickup</th>\n",
              "      <td>-0.007338</td>\n",
              "      <td>-0.950588</td>\n",
              "      <td>1.000000</td>\n",
              "      <td>-0.911123</td>\n",
              "      <td>0.928189</td>\n",
              "      <td>0.003237</td>\n",
              "    </tr>\n",
              "    <tr>\n",
              "      <th>longitude_of_dropoff</th>\n",
              "      <td>0.004286</td>\n",
              "      <td>0.956131</td>\n",
              "      <td>-0.911123</td>\n",
              "      <td>1.000000</td>\n",
              "      <td>-0.982117</td>\n",
              "      <td>-0.004936</td>\n",
              "    </tr>\n",
              "    <tr>\n",
              "      <th>latitude_of_dropoff</th>\n",
              "      <td>-0.005442</td>\n",
              "      <td>-0.946968</td>\n",
              "      <td>0.928189</td>\n",
              "      <td>-0.982117</td>\n",
              "      <td>1.000000</td>\n",
              "      <td>0.002958</td>\n",
              "    </tr>\n",
              "    <tr>\n",
              "      <th>no_of_passenger</th>\n",
              "      <td>0.016583</td>\n",
              "      <td>-0.005604</td>\n",
              "      <td>0.003237</td>\n",
              "      <td>-0.004936</td>\n",
              "      <td>0.002958</td>\n",
              "      <td>1.000000</td>\n",
              "    </tr>\n",
              "  </tbody>\n",
              "</table>\n",
              "</div>\n",
              "      <button class=\"colab-df-convert\" onclick=\"convertToInteractive('df-e3bc5dfe-29fa-461a-a7df-22453f20504e')\"\n",
              "              title=\"Convert this dataframe to an interactive table.\"\n",
              "              style=\"display:none;\">\n",
              "        \n",
              "  <svg xmlns=\"http://www.w3.org/2000/svg\" height=\"24px\"viewBox=\"0 0 24 24\"\n",
              "       width=\"24px\">\n",
              "    <path d=\"M0 0h24v24H0V0z\" fill=\"none\"/>\n",
              "    <path d=\"M18.56 5.44l.94 2.06.94-2.06 2.06-.94-2.06-.94-.94-2.06-.94 2.06-2.06.94zm-11 1L8.5 8.5l.94-2.06 2.06-.94-2.06-.94L8.5 2.5l-.94 2.06-2.06.94zm10 10l.94 2.06.94-2.06 2.06-.94-2.06-.94-.94-2.06-.94 2.06-2.06.94z\"/><path d=\"M17.41 7.96l-1.37-1.37c-.4-.4-.92-.59-1.43-.59-.52 0-1.04.2-1.43.59L10.3 9.45l-7.72 7.72c-.78.78-.78 2.05 0 2.83L4 21.41c.39.39.9.59 1.41.59.51 0 1.02-.2 1.41-.59l7.78-7.78 2.81-2.81c.8-.78.8-2.07 0-2.86zM5.41 20L4 18.59l7.72-7.72 1.47 1.35L5.41 20z\"/>\n",
              "  </svg>\n",
              "      </button>\n",
              "      \n",
              "  <style>\n",
              "    .colab-df-container {\n",
              "      display:flex;\n",
              "      flex-wrap:wrap;\n",
              "      gap: 12px;\n",
              "    }\n",
              "\n",
              "    .colab-df-convert {\n",
              "      background-color: #E8F0FE;\n",
              "      border: none;\n",
              "      border-radius: 50%;\n",
              "      cursor: pointer;\n",
              "      display: none;\n",
              "      fill: #1967D2;\n",
              "      height: 32px;\n",
              "      padding: 0 0 0 0;\n",
              "      width: 32px;\n",
              "    }\n",
              "\n",
              "    .colab-df-convert:hover {\n",
              "      background-color: #E2EBFA;\n",
              "      box-shadow: 0px 1px 2px rgba(60, 64, 67, 0.3), 0px 1px 3px 1px rgba(60, 64, 67, 0.15);\n",
              "      fill: #174EA6;\n",
              "    }\n",
              "\n",
              "    [theme=dark] .colab-df-convert {\n",
              "      background-color: #3B4455;\n",
              "      fill: #D2E3FC;\n",
              "    }\n",
              "\n",
              "    [theme=dark] .colab-df-convert:hover {\n",
              "      background-color: #434B5C;\n",
              "      box-shadow: 0px 1px 3px 1px rgba(0, 0, 0, 0.15);\n",
              "      filter: drop-shadow(0px 1px 2px rgba(0, 0, 0, 0.3));\n",
              "      fill: #FFFFFF;\n",
              "    }\n",
              "  </style>\n",
              "\n",
              "      <script>\n",
              "        const buttonEl =\n",
              "          document.querySelector('#df-e3bc5dfe-29fa-461a-a7df-22453f20504e button.colab-df-convert');\n",
              "        buttonEl.style.display =\n",
              "          google.colab.kernel.accessAllowed ? 'block' : 'none';\n",
              "\n",
              "        async function convertToInteractive(key) {\n",
              "          const element = document.querySelector('#df-e3bc5dfe-29fa-461a-a7df-22453f20504e');\n",
              "          const dataTable =\n",
              "            await google.colab.kernel.invokeFunction('convertToInteractive',\n",
              "                                                     [key], {});\n",
              "          if (!dataTable) return;\n",
              "\n",
              "          const docLinkHtml = 'Like what you see? Visit the ' +\n",
              "            '<a target=\"_blank\" href=https://colab.research.google.com/notebooks/data_table.ipynb>data table notebook</a>'\n",
              "            + ' to learn more about interactive tables.';\n",
              "          element.innerHTML = '';\n",
              "          dataTable['output_type'] = 'display_data';\n",
              "          await google.colab.output.renderOutput(dataTable, element);\n",
              "          const docLink = document.createElement('div');\n",
              "          docLink.innerHTML = docLinkHtml;\n",
              "          element.appendChild(docLink);\n",
              "        }\n",
              "      </script>\n",
              "    </div>\n",
              "  </div>\n",
              "  "
            ]
          },
          "metadata": {},
          "execution_count": 497
        }
      ],
      "source": [
        "corr"
      ]
    },
    {
      "cell_type": "code",
      "execution_count": 498,
      "metadata": {
        "colab": {
          "base_uri": "https://localhost:8080/",
          "height": 379
        },
        "id": "s_Nnf9wwsaNX",
        "outputId": "e74fa1c6-c596-42fc-aeb8-3daf7d405ea3"
      },
      "outputs": [
        {
          "output_type": "execute_result",
          "data": {
            "text/plain": [
              "<AxesSubplot:>"
            ]
          },
          "metadata": {},
          "execution_count": 498
        },
        {
          "output_type": "display_data",
          "data": {
            "text/plain": [
              "<Figure size 432x288 with 2 Axes>"
            ],
            "image/png": "[encoded data removed]"
          },
          "metadata": {
            "needs_background": "light"
          }
        }
      ],
      "source": [
        "sns.heatmap(corr,annot=True,cmap=\"YlGnBu\")"
      ]
    },
    {
      "cell_type": "code",
      "execution_count": 499,
      "metadata": {
        "colab": {
          "base_uri": "https://localhost:8080/",
          "height": 1000
        },
        "id": "a0fY4fXosn7W",
        "outputId": "1dad593a-f400-45cb-ee27-5ac1404e8878"
      },
      "outputs": [
        {
          "output_type": "execute_result",
          "data": {
            "text/plain": [
              "<seaborn.axisgrid.PairGrid at 0x7f6287924a30>"
            ]
          },
          "metadata": {},
          "execution_count": 499
        },
        {
          "output_type": "display_data",
          "data": {
            "text/plain": [
              "<Figure size 1080x1080 with 42 Axes>"
            ],
            "image/png": "[encoded data removed]"
          },
          "metadata": {
            "needs_background": "light"
          }
        }
      ],
      "source": [
        "sns.pairplot(df,diag_kind='kde')"
      ]
    },
    {
      "cell_type": "code",
      "execution_count": 500,
      "metadata": {
        "id": "rrk-bBgfs1mt"
      },
      "outputs": [],
      "source": [
        "# Although correlation is a good score for many of the attributes but due the catagorical based data one can't find it useful to get information directly"
      ]
    },
    {
      "cell_type": "code",
      "execution_count": 501,
      "metadata": {
        "id": "8VaH_xog5Fts"
      },
      "outputs": [],
      "source": [
        "# Removing the outliers in the dataset"
      ]
    },
    {
      "cell_type": "code",
      "execution_count": 502,
      "metadata": {
        "id": "pQQSqDOFtZuO"
      },
      "outputs": [],
      "source": [
        "column=['longitude_of_pickup','latitude_of_pickup','longitude_of_dropoff','latitude_of_dropoff']"
      ]
    },
    {
      "cell_type": "code",
      "execution_count": 503,
      "metadata": {
        "colab": {
          "base_uri": "https://localhost:8080/"
        },
        "id": "99ji-dBhuh3E",
        "outputId": "cfe6e170-5aa8-48ea-b33d-c8c6b485b6c8"
      },
      "outputs": [
        {
          "output_type": "stream",
          "name": "stdout",
          "text": [
            "-73.992062 -73.96714800000001 0.02491399999999544\n"
          ]
        }
      ],
      "source": [
        "Q1=df.longitude_of_pickup.quantile(0.25)\n",
        "Q3=df.longitude_of_pickup.quantile(0.75)\n",
        "IQR=Q3-Q1\n",
        "print(Q1,Q3,IQR)"
      ]
    },
    {
      "cell_type": "code",
      "execution_count": 504,
      "metadata": {
        "colab": {
          "base_uri": "https://localhost:8080/"
        },
        "id": "Qd1tJ1NEuoF7",
        "outputId": "e9000f91-1849-412d-e508-991f7779173a"
      },
      "outputs": [
        {
          "output_type": "execute_result",
          "data": {
            "text/plain": [
              "(-74.029433, -73.92977700000002)"
            ]
          },
          "metadata": {},
          "execution_count": 504
        }
      ],
      "source": [
        "low=Q1-1.5*IQR\n",
        "high=Q3+1.5*IQR\n",
        "low,high"
      ]
    },
    {
      "cell_type": "code",
      "execution_count": 505,
      "metadata": {
        "id": "EbV04rr1vMEb"
      },
      "outputs": [],
      "source": [
        "df2=df[(df.longitude_of_pickup<high)&(df.longitude_of_pickup>low)]"
      ]
    },
    {
      "cell_type": "code",
      "execution_count": 506,
      "metadata": {
        "colab": {
          "base_uri": "https://localhost:8080/"
        },
        "id": "BBfveqzA_Ov_",
        "outputId": "4018b916-0976-432f-8b4a-99445f0e2490"
      },
      "outputs": [
        {
          "output_type": "stream",
          "name": "stdout",
          "text": [
            "40.737032 40.7666385 0.02960649999999987\n"
          ]
        }
      ],
      "source": [
        "Q1=df2.latitude_of_pickup.quantile(0.25)\n",
        "Q3=df2.latitude_of_pickup.quantile(0.75)\n",
        "IQR=Q3-Q1\n",
        "print(Q1,Q3,IQR)"
      ]
    },
    {
      "cell_type": "code",
      "execution_count": 507,
      "metadata": {
        "colab": {
          "base_uri": "https://localhost:8080/"
        },
        "id": "xv9-Okqe_XBm",
        "outputId": "b266f9bb-6dd4-484c-915f-da59bfe08a99"
      },
      "outputs": [
        {
          "output_type": "execute_result",
          "data": {
            "text/plain": [
              "(40.69262225, 40.81104825)"
            ]
          },
          "metadata": {},
          "execution_count": 507
        }
      ],
      "source": [
        "low=Q1-1.5*IQR\n",
        "high=Q3+1.5*IQR\n",
        "low,high"
      ]
    },
    {
      "cell_type": "code",
      "execution_count": 508,
      "metadata": {
        "id": "VZHkF3bc_XbK"
      },
      "outputs": [],
      "source": [
        "df3=df2[(df2.latitude_of_pickup<high)&(df2.latitude_of_pickup>low)]"
      ]
    },
    {
      "cell_type": "code",
      "execution_count": 509,
      "metadata": {
        "colab": {
          "base_uri": "https://localhost:8080/"
        },
        "id": "WzAUMz5n_YFA",
        "outputId": "23a12781-c57c-443d-d269-d9de639ecb18"
      },
      "outputs": [
        {
          "output_type": "stream",
          "name": "stdout",
          "text": [
            "-73.991533 -73.9667415 0.024791500000006295\n"
          ]
        }
      ],
      "source": [
        "Q1=df3.longitude_of_dropoff.quantile(0.25)\n",
        "Q3=df3.longitude_of_dropoff.quantile(0.75)\n",
        "IQR=Q3-Q1\n",
        "print(Q1,Q3,IQR)"
      ]
    },
    {
      "cell_type": "code",
      "execution_count": 510,
      "metadata": {
        "colab": {
          "base_uri": "https://localhost:8080/"
        },
        "id": "HyZmBZ2L_YUc",
        "outputId": "8fa0b621-b606-4adf-96da-9440ccdfb539"
      },
      "outputs": [
        {
          "output_type": "execute_result",
          "data": {
            "text/plain": [
              "(-74.02872025000002, -73.92955425)"
            ]
          },
          "metadata": {},
          "execution_count": 510
        }
      ],
      "source": [
        "low=Q1-1.5*IQR\n",
        "high=Q3+1.5*IQR\n",
        "low,high"
      ]
    },
    {
      "cell_type": "code",
      "execution_count": 511,
      "metadata": {
        "id": "TKYLRC0Q_5Gp"
      },
      "outputs": [],
      "source": [
        "df4=df3[(df3.longitude_of_dropoff<high)&(df3.longitude_of_dropoff>low)]"
      ]
    },
    {
      "cell_type": "code",
      "execution_count": 512,
      "metadata": {
        "colab": {
          "base_uri": "https://localhost:8080/"
        },
        "id": "Jgjgr7PH_5BU",
        "outputId": "e9e16c6a-a0ed-4467-ab98-2c4be3f5a628"
      },
      "outputs": [
        {
          "output_type": "stream",
          "name": "stdout",
          "text": [
            "40.737191 40.76789856 0.030707559999996192\n"
          ]
        }
      ],
      "source": [
        "Q1=df4.latitude_of_dropoff.quantile(0.25)\n",
        "Q3=df4.latitude_of_dropoff.quantile(0.75)\n",
        "IQR=Q3-Q1\n",
        "print(Q1,Q3,IQR)"
      ]
    },
    {
      "cell_type": "code",
      "execution_count": 513,
      "metadata": {
        "colab": {
          "base_uri": "https://localhost:8080/"
        },
        "id": "2I9_kNc6_4-2",
        "outputId": "7aa54147-85d9-4bfb-a706-bea2282986e6"
      },
      "outputs": [
        {
          "output_type": "execute_result",
          "data": {
            "text/plain": [
              "(40.69112966000001, 40.81395989999999)"
            ]
          },
          "metadata": {},
          "execution_count": 513
        }
      ],
      "source": [
        "low=Q1-1.5*IQR\n",
        "high=Q3+1.5*IQR\n",
        "low,high"
      ]
    },
    {
      "cell_type": "code",
      "execution_count": 514,
      "metadata": {
        "colab": {
          "base_uri": "https://localhost:8080/"
        },
        "id": "7Ry5SDEj_48O",
        "outputId": "d4f93860-daa2-41cc-9981-1df8833bb40f"
      },
      "outputs": [
        {
          "output_type": "stream",
          "name": "stderr",
          "text": [
            "<ipython-input-514-810140e78b9e>:1: UserWarning: Boolean Series key will be reindexed to match DataFrame index.\n",
            "  df=df4[(df4.latitude_of_dropoff<high)&(df3.latitude_of_dropoff>low)]\n"
          ]
        }
      ],
      "source": [
        "df=df4[(df4.latitude_of_dropoff<high)&(df3.latitude_of_dropoff>low)]"
      ]
    },
    {
      "cell_type": "code",
      "execution_count": 515,
      "metadata": {
        "id": "7OXoNuJU_43U",
        "colab": {
          "base_uri": "https://localhost:8080/",
          "height": 206
        },
        "outputId": "2cac75a3-b52b-428b-857e-8a40bc3ee8a7"
      },
      "outputs": [
        {
          "output_type": "execute_result",
          "data": {
            "text/plain": [
              "  unique_id  amount      date_time_of_pickup  longitude_of_pickup  \\\n",
              "1   52:16.0    16.9  2010-01-05 16:52:16 UTC           -74.016048   \n",
              "2   35:00.0     5.7  2011-08-18 00:35:00 UTC           -73.982738   \n",
              "3   30:42.0     7.7  2012-04-21 04:30:42 UTC           -73.987130   \n",
              "4   51:00.0     5.3  2010-03-09 07:51:00 UTC           -73.968095   \n",
              "5   50:45.0    12.1  2011-01-06 09:50:45 UTC           -74.000964   \n",
              "\n",
              "   latitude_of_pickup  longitude_of_dropoff  latitude_of_dropoff  \\\n",
              "1           40.711303            -73.979268            40.782004   \n",
              "2           40.761270            -73.991242            40.750562   \n",
              "3           40.733143            -73.991567            40.758092   \n",
              "4           40.768008            -73.956655            40.783762   \n",
              "5           40.731630            -73.972892            40.758233   \n",
              "\n",
              "   no_of_passenger  \n",
              "1                1  \n",
              "2                2  \n",
              "3                1  \n",
              "4                1  \n",
              "5                1  "
            ],
            "text/html": [
              "\n",
              "  <div id=\"df-debff32f-bf0d-4859-935e-b2e2563b9211\">\n",
              "    <div class=\"colab-df-container\">\n",
              "      <div>\n",
              "<style scoped>\n",
              "    .dataframe tbody tr th:only-of-type {\n",
              "        vertical-align: middle;\n",
              "    }\n",
              "\n",
              "    .dataframe tbody tr th {\n",
              "        vertical-align: top;\n",
              "    }\n",
              "\n",
              "    .dataframe thead th {\n",
              "        text-align: right;\n",
              "    }\n",
              "</style>\n",
              "<table border=\"1\" class=\"dataframe\">\n",
              "  <thead>\n",
              "    <tr style=\"text-align: right;\">\n",
              "      <th></th>\n",
              "      <th>unique_id</th>\n",
              "      <th>amount</th>\n",
              "      <th>date_time_of_pickup</th>\n",
              "      <th>longitude_of_pickup</th>\n",
              "      <th>latitude_of_pickup</th>\n",
              "      <th>longitude_of_dropoff</th>\n",
              "      <th>latitude_of_dropoff</th>\n",
              "      <th>no_of_passenger</th>\n",
              "    </tr>\n",
              "  </thead>\n",
              "  <tbody>\n",
              "    <tr>\n",
              "      <th>1</th>\n",
              "      <td>52:16.0</td>\n",
              "      <td>16.9</td>\n",
              "      <td>2010-01-05 16:52:16 UTC</td>\n",
              "      <td>-74.016048</td>\n",
              "      <td>40.711303</td>\n",
              "      <td>-73.979268</td>\n",
              "      <td>40.782004</td>\n",
              "      <td>1</td>\n",
              "    </tr>\n",
              "    <tr>\n",
              "      <th>2</th>\n",
              "      <td>35:00.0</td>\n",
              "      <td>5.7</td>\n",
              "      <td>2011-08-18 00:35:00 UTC</td>\n",
              "      <td>-73.982738</td>\n",
              "      <td>40.761270</td>\n",
              "      <td>-73.991242</td>\n",
              "      <td>40.750562</td>\n",
              "      <td>2</td>\n",
              "    </tr>\n",
              "    <tr>\n",
              "      <th>3</th>\n",
              "      <td>30:42.0</td>\n",
              "      <td>7.7</td>\n",
              "      <td>2012-04-21 04:30:42 UTC</td>\n",
              "      <td>-73.987130</td>\n",
              "      <td>40.733143</td>\n",
              "      <td>-73.991567</td>\n",
              "      <td>40.758092</td>\n",
              "      <td>1</td>\n",
              "    </tr>\n",
              "    <tr>\n",
              "      <th>4</th>\n",
              "      <td>51:00.0</td>\n",
              "      <td>5.3</td>\n",
              "      <td>2010-03-09 07:51:00 UTC</td>\n",
              "      <td>-73.968095</td>\n",
              "      <td>40.768008</td>\n",
              "      <td>-73.956655</td>\n",
              "      <td>40.783762</td>\n",
              "      <td>1</td>\n",
              "    </tr>\n",
              "    <tr>\n",
              "      <th>5</th>\n",
              "      <td>50:45.0</td>\n",
              "      <td>12.1</td>\n",
              "      <td>2011-01-06 09:50:45 UTC</td>\n",
              "      <td>-74.000964</td>\n",
              "      <td>40.731630</td>\n",
              "      <td>-73.972892</td>\n",
              "      <td>40.758233</td>\n",
              "      <td>1</td>\n",
              "    </tr>\n",
              "  </tbody>\n",
              "</table>\n",
              "</div>\n",
              "      <button class=\"colab-df-convert\" onclick=\"convertToInteractive('df-debff32f-bf0d-4859-935e-b2e2563b9211')\"\n",
              "              title=\"Convert this dataframe to an interactive table.\"\n",
              "              style=\"display:none;\">\n",
              "        \n",
              "  <svg xmlns=\"http://www.w3.org/2000/svg\" height=\"24px\"viewBox=\"0 0 24 24\"\n",
              "       width=\"24px\">\n",
              "    <path d=\"M0 0h24v24H0V0z\" fill=\"none\"/>\n",
              "    <path d=\"M18.56 5.44l.94 2.06.94-2.06 2.06-.94-2.06-.94-.94-2.06-.94 2.06-2.06.94zm-11 1L8.5 8.5l.94-2.06 2.06-.94-2.06-.94L8.5 2.5l-.94 2.06-2.06.94zm10 10l.94 2.06.94-2.06 2.06-.94-2.06-.94-.94-2.06-.94 2.06-2.06.94z\"/><path d=\"M17.41 7.96l-1.37-1.37c-.4-.4-.92-.59-1.43-.59-.52 0-1.04.2-1.43.59L10.3 9.45l-7.72 7.72c-.78.78-.78 2.05 0 2.83L4 21.41c.39.39.9.59 1.41.59.51 0 1.02-.2 1.41-.59l7.78-7.78 2.81-2.81c.8-.78.8-2.07 0-2.86zM5.41 20L4 18.59l7.72-7.72 1.47 1.35L5.41 20z\"/>\n",
              "  </svg>\n",
              "      </button>\n",
              "      \n",
              "  <style>\n",
              "    .colab-df-container {\n",
              "      display:flex;\n",
              "      flex-wrap:wrap;\n",
              "      gap: 12px;\n",
              "    }\n",
              "\n",
              "    .colab-df-convert {\n",
              "      background-color: #E8F0FE;\n",
              "      border: none;\n",
              "      border-radius: 50%;\n",
              "      cursor: pointer;\n",
              "      display: none;\n",
              "      fill: #1967D2;\n",
              "      height: 32px;\n",
              "      padding: 0 0 0 0;\n",
              "      width: 32px;\n",
              "    }\n",
              "\n",
              "    .colab-df-convert:hover {\n",
              "      background-color: #E2EBFA;\n",
              "      box-shadow: 0px 1px 2px rgba(60, 64, 67, 0.3), 0px 1px 3px 1px rgba(60, 64, 67, 0.15);\n",
              "      fill: #174EA6;\n",
              "    }\n",
              "\n",
              "    [theme=dark] .colab-df-convert {\n",
              "      background-color: #3B4455;\n",
              "      fill: #D2E3FC;\n",
              "    }\n",
              "\n",
              "    [theme=dark] .colab-df-convert:hover {\n",
              "      background-color: #434B5C;\n",
              "      box-shadow: 0px 1px 3px 1px rgba(0, 0, 0, 0.15);\n",
              "      filter: drop-shadow(0px 1px 2px rgba(0, 0, 0, 0.3));\n",
              "      fill: #FFFFFF;\n",
              "    }\n",
              "  </style>\n",
              "\n",
              "      <script>\n",
              "        const buttonEl =\n",
              "          document.querySelector('#df-debff32f-bf0d-4859-935e-b2e2563b9211 button.colab-df-convert');\n",
              "        buttonEl.style.display =\n",
              "          google.colab.kernel.accessAllowed ? 'block' : 'none';\n",
              "\n",
              "        async function convertToInteractive(key) {\n",
              "          const element = document.querySelector('#df-debff32f-bf0d-4859-935e-b2e2563b9211');\n",
              "          const dataTable =\n",
              "            await google.colab.kernel.invokeFunction('convertToInteractive',\n",
              "                                                     [key], {});\n",
              "          if (!dataTable) return;\n",
              "\n",
              "          const docLinkHtml = 'Like what you see? Visit the ' +\n",
              "            '<a target=\"_blank\" href=https://colab.research.google.com/notebooks/data_table.ipynb>data table notebook</a>'\n",
              "            + ' to learn more about interactive tables.';\n",
              "          element.innerHTML = '';\n",
              "          dataTable['output_type'] = 'display_data';\n",
              "          await google.colab.output.renderOutput(dataTable, element);\n",
              "          const docLink = document.createElement('div');\n",
              "          docLink.innerHTML = docLinkHtml;\n",
              "          element.appendChild(docLink);\n",
              "        }\n",
              "      </script>\n",
              "    </div>\n",
              "  </div>\n",
              "  "
            ]
          },
          "metadata": {},
          "execution_count": 515
        }
      ],
      "source": [
        "df.head(5)"
      ]
    },
    {
      "cell_type": "code",
      "execution_count": 516,
      "metadata": {
        "id": "rK_8YuMe_40m"
      },
      "outputs": [],
      "source": [
        "# Now let us deal with the outliers in amount and number of passenger"
      ]
    },
    {
      "cell_type": "code",
      "execution_count": 517,
      "metadata": {
        "id": "yFhaopYx_4yJ"
      },
      "outputs": [],
      "source": [
        "df=df[(df.no_of_passenger>0)]     #Number of passengers cann't be 0"
      ]
    },
    {
      "cell_type": "code",
      "execution_count": 518,
      "metadata": {
        "colab": {
          "base_uri": "https://localhost:8080/"
        },
        "id": "rzeIM8nZ_4nt",
        "outputId": "73844795-cee0-4c37-87e6-43afd02ce859"
      },
      "outputs": [
        {
          "output_type": "stream",
          "name": "stdout",
          "text": [
            "5.7 11.0 5.3\n"
          ]
        }
      ],
      "source": [
        "Q1=df.amount.quantile(0.25)\n",
        "Q3=df.amount.quantile(0.75)\n",
        "IQR=Q3-Q1\n",
        "print(Q1,Q3,IQR)"
      ]
    },
    {
      "cell_type": "code",
      "execution_count": 519,
      "metadata": {
        "colab": {
          "base_uri": "https://localhost:8080/"
        },
        "id": "G_9KlS60_4lW",
        "outputId": "65c8d66e-8b5d-44e2-bc02-0ea3b1f1eff5"
      },
      "outputs": [
        {
          "output_type": "execute_result",
          "data": {
            "text/plain": [
              "(0.5, 18.95)"
            ]
          },
          "metadata": {},
          "execution_count": 519
        }
      ],
      "source": [
        "low=0.5               #taking the lower threshold as 0.5, Q1-1.5*IQR is coming to be -ve \n",
        "high=Q3+1.5*IQR\n",
        "low,high"
      ]
    },
    {
      "cell_type": "code",
      "execution_count": 520,
      "metadata": {
        "id": "sAolS6bM_4i1"
      },
      "outputs": [],
      "source": [
        "df=df[(df.amount<high)&(df.amount>low)]"
      ]
    },
    {
      "cell_type": "code",
      "execution_count": 521,
      "metadata": {
        "colab": {
          "base_uri": "https://localhost:8080/",
          "height": 300
        },
        "id": "QFuzT_AO_4R9",
        "outputId": "646a14d5-da7e-47df-8e1d-a300fc472761"
      },
      "outputs": [
        {
          "output_type": "execute_result",
          "data": {
            "text/plain": [
              "             amount  longitude_of_pickup  latitude_of_pickup  \\\n",
              "count  40682.000000         40682.000000        40682.000000   \n",
              "mean       8.396197           -73.981859           40.752836   \n",
              "std        3.493493             0.015994            0.021035   \n",
              "min        2.500000           -74.026443           40.692660   \n",
              "25%        5.700000           -73.992715           40.738495   \n",
              "50%        7.700000           -73.982795           40.753678   \n",
              "75%       10.500000           -73.971610           40.766728   \n",
              "max       18.900000           -73.929878           40.810917   \n",
              "\n",
              "       longitude_of_dropoff  latitude_of_dropoff  no_of_passenger  \n",
              "count          40682.000000         40682.000000     40682.000000  \n",
              "mean             -73.980817            40.753473         1.668232  \n",
              "std                0.016660             0.022046         1.283082  \n",
              "min              -74.027525            40.691177         1.000000  \n",
              "25%              -73.991911            40.738929         1.000000  \n",
              "50%              -73.981955            40.754637         1.000000  \n",
              "75%              -73.970631            40.767592         2.000000  \n",
              "max              -73.929593            40.813934         6.000000  "
            ],
            "text/html": [
              "\n",
              "  <div id=\"df-a5c54f0b-6e43-4465-b08f-b73e58f6a9ad\">\n",
              "    <div class=\"colab-df-container\">\n",
              "      <div>\n",
              "<style scoped>\n",
              "    .dataframe tbody tr th:only-of-type {\n",
              "        vertical-align: middle;\n",
              "    }\n",
              "\n",
              "    .dataframe tbody tr th {\n",
              "        vertical-align: top;\n",
              "    }\n",
              "\n",
              "    .dataframe thead th {\n",
              "        text-align: right;\n",
              "    }\n",
              "</style>\n",
              "<table border=\"1\" class=\"dataframe\">\n",
              "  <thead>\n",
              "    <tr style=\"text-align: right;\">\n",
              "      <th></th>\n",
              "      <th>amount</th>\n",
              "      <th>longitude_of_pickup</th>\n",
              "      <th>latitude_of_pickup</th>\n",
              "      <th>longitude_of_dropoff</th>\n",
              "      <th>latitude_of_dropoff</th>\n",
              "      <th>no_of_passenger</th>\n",
              "    </tr>\n",
              "  </thead>\n",
              "  <tbody>\n",
              "    <tr>\n",
              "      <th>count</th>\n",
              "      <td>40682.000000</td>\n",
              "      <td>40682.000000</td>\n",
              "      <td>40682.000000</td>\n",
              "      <td>40682.000000</td>\n",
              "      <td>40682.000000</td>\n",
              "      <td>40682.000000</td>\n",
              "    </tr>\n",
              "    <tr>\n",
              "      <th>mean</th>\n",
              "      <td>8.396197</td>\n",
              "      <td>-73.981859</td>\n",
              "      <td>40.752836</td>\n",
              "      <td>-73.980817</td>\n",
              "      <td>40.753473</td>\n",
              "      <td>1.668232</td>\n",
              "    </tr>\n",
              "    <tr>\n",
              "      <th>std</th>\n",
              "      <td>3.493493</td>\n",
              "      <td>0.015994</td>\n",
              "      <td>0.021035</td>\n",
              "      <td>0.016660</td>\n",
              "      <td>0.022046</td>\n",
              "      <td>1.283082</td>\n",
              "    </tr>\n",
              "    <tr>\n",
              "      <th>min</th>\n",
              "      <td>2.500000</td>\n",
              "      <td>-74.026443</td>\n",
              "      <td>40.692660</td>\n",
              "      <td>-74.027525</td>\n",
              "      <td>40.691177</td>\n",
              "      <td>1.000000</td>\n",
              "    </tr>\n",
              "    <tr>\n",
              "      <th>25%</th>\n",
              "      <td>5.700000</td>\n",
              "      <td>-73.992715</td>\n",
              "      <td>40.738495</td>\n",
              "      <td>-73.991911</td>\n",
              "      <td>40.738929</td>\n",
              "      <td>1.000000</td>\n",
              "    </tr>\n",
              "    <tr>\n",
              "      <th>50%</th>\n",
              "      <td>7.700000</td>\n",
              "      <td>-73.982795</td>\n",
              "      <td>40.753678</td>\n",
              "      <td>-73.981955</td>\n",
              "      <td>40.754637</td>\n",
              "      <td>1.000000</td>\n",
              "    </tr>\n",
              "    <tr>\n",
              "      <th>75%</th>\n",
              "      <td>10.500000</td>\n",
              "      <td>-73.971610</td>\n",
              "      <td>40.766728</td>\n",
              "      <td>-73.970631</td>\n",
              "      <td>40.767592</td>\n",
              "      <td>2.000000</td>\n",
              "    </tr>\n",
              "    <tr>\n",
              "      <th>max</th>\n",
              "      <td>18.900000</td>\n",
              "      <td>-73.929878</td>\n",
              "      <td>40.810917</td>\n",
              "      <td>-73.929593</td>\n",
              "      <td>40.813934</td>\n",
              "      <td>6.000000</td>\n",
              "    </tr>\n",
              "  </tbody>\n",
              "</table>\n",
              "</div>\n",
              "      <button class=\"colab-df-convert\" onclick=\"convertToInteractive('df-a5c54f0b-6e43-4465-b08f-b73e58f6a9ad')\"\n",
              "              title=\"Convert this dataframe to an interactive table.\"\n",
              "              style=\"display:none;\">\n",
              "        \n",
              "  <svg xmlns=\"http://www.w3.org/2000/svg\" height=\"24px\"viewBox=\"0 0 24 24\"\n",
              "       width=\"24px\">\n",
              "    <path d=\"M0 0h24v24H0V0z\" fill=\"none\"/>\n",
              "    <path d=\"M18.56 5.44l.94 2.06.94-2.06 2.06-.94-2.06-.94-.94-2.06-.94 2.06-2.06.94zm-11 1L8.5 8.5l.94-2.06 2.06-.94-2.06-.94L8.5 2.5l-.94 2.06-2.06.94zm10 10l.94 2.06.94-2.06 2.06-.94-2.06-.94-.94-2.06-.94 2.06-2.06.94z\"/><path d=\"M17.41 7.96l-1.37-1.37c-.4-.4-.92-.59-1.43-.59-.52 0-1.04.2-1.43.59L10.3 9.45l-7.72 7.72c-.78.78-.78 2.05 0 2.83L4 21.41c.39.39.9.59 1.41.59.51 0 1.02-.2 1.41-.59l7.78-7.78 2.81-2.81c.8-.78.8-2.07 0-2.86zM5.41 20L4 18.59l7.72-7.72 1.47 1.35L5.41 20z\"/>\n",
              "  </svg>\n",
              "      </button>\n",
              "      \n",
              "  <style>\n",
              "    .colab-df-container {\n",
              "      display:flex;\n",
              "      flex-wrap:wrap;\n",
              "      gap: 12px;\n",
              "    }\n",
              "\n",
              "    .colab-df-convert {\n",
              "      background-color: #E8F0FE;\n",
              "      border: none;\n",
              "      border-radius: 50%;\n",
              "      cursor: pointer;\n",
              "      display: none;\n",
              "      fill: #1967D2;\n",
              "      height: 32px;\n",
              "      padding: 0 0 0 0;\n",
              "      width: 32px;\n",
              "    }\n",
              "\n",
              "    .colab-df-convert:hover {\n",
              "      background-color: #E2EBFA;\n",
              "      box-shadow: 0px 1px 2px rgba(60, 64, 67, 0.3), 0px 1px 3px 1px rgba(60, 64, 67, 0.15);\n",
              "      fill: #174EA6;\n",
              "    }\n",
              "\n",
              "    [theme=dark] .colab-df-convert {\n",
              "      background-color: #3B4455;\n",
              "      fill: #D2E3FC;\n",
              "    }\n",
              "\n",
              "    [theme=dark] .colab-df-convert:hover {\n",
              "      background-color: #434B5C;\n",
              "      box-shadow: 0px 1px 3px 1px rgba(0, 0, 0, 0.15);\n",
              "      filter: drop-shadow(0px 1px 2px rgba(0, 0, 0, 0.3));\n",
              "      fill: #FFFFFF;\n",
              "    }\n",
              "  </style>\n",
              "\n",
              "      <script>\n",
              "        const buttonEl =\n",
              "          document.querySelector('#df-a5c54f0b-6e43-4465-b08f-b73e58f6a9ad button.colab-df-convert');\n",
              "        buttonEl.style.display =\n",
              "          google.colab.kernel.accessAllowed ? 'block' : 'none';\n",
              "\n",
              "        async function convertToInteractive(key) {\n",
              "          const element = document.querySelector('#df-a5c54f0b-6e43-4465-b08f-b73e58f6a9ad');\n",
              "          const dataTable =\n",
              "            await google.colab.kernel.invokeFunction('convertToInteractive',\n",
              "                                                     [key], {});\n",
              "          if (!dataTable) return;\n",
              "\n",
              "          const docLinkHtml = 'Like what you see? Visit the ' +\n",
              "            '<a target=\"_blank\" href=https://colab.research.google.com/notebooks/data_table.ipynb>data table notebook</a>'\n",
              "            + ' to learn more about interactive tables.';\n",
              "          element.innerHTML = '';\n",
              "          dataTable['output_type'] = 'display_data';\n",
              "          await google.colab.output.renderOutput(dataTable, element);\n",
              "          const docLink = document.createElement('div');\n",
              "          docLink.innerHTML = docLinkHtml;\n",
              "          element.appendChild(docLink);\n",
              "        }\n",
              "      </script>\n",
              "    </div>\n",
              "  </div>\n",
              "  "
            ]
          },
          "metadata": {},
          "execution_count": 521
        }
      ],
      "source": [
        "df.describe()"
      ]
    },
    {
      "cell_type": "code",
      "execution_count": 522,
      "metadata": {
        "id": "q9v90kCW_4PP"
      },
      "outputs": [],
      "source": [
        "# Now the dataset is free of any outliers now removing duplicates"
      ]
    },
    {
      "cell_type": "code",
      "execution_count": 523,
      "metadata": {
        "id": "I3OcPNLy_4DW"
      },
      "outputs": [],
      "source": [
        "df.drop_duplicates(inplace=True)"
      ]
    },
    {
      "cell_type": "code",
      "execution_count": 524,
      "metadata": {
        "id": "Fy9fGSie_4A4"
      },
      "outputs": [],
      "source": [
        "# dropping the unnecessary data columns which are date_time_of_pickup,unique_id"
      ]
    },
    {
      "cell_type": "code",
      "execution_count": 525,
      "metadata": {
        "id": "7ymwB1R3Ojxv"
      },
      "outputs": [],
      "source": [
        "column=['date_time_of_pickup','unique_id']\n",
        "df.drop(column,axis=1,inplace=True)"
      ]
    },
    {
      "cell_type": "code",
      "execution_count": 526,
      "metadata": {
        "colab": {
          "base_uri": "https://localhost:8080/"
        },
        "id": "PFSIpb4FOtfV",
        "outputId": "c1f70581-1f81-40e6-9930-1ee74a048102"
      },
      "outputs": [
        {
          "output_type": "stream",
          "name": "stdout",
          "text": [
            "<class 'pandas.core.frame.DataFrame'>\n",
            "Int64Index: 40682 entries, 1 to 49999\n",
            "Data columns (total 6 columns):\n",
            " #   Column                Non-Null Count  Dtype  \n",
            "---  ------                --------------  -----  \n",
            " 0   amount                40682 non-null  float64\n",
            " 1   longitude_of_pickup   40682 non-null  float64\n",
            " 2   latitude_of_pickup    40682 non-null  float64\n",
            " 3   longitude_of_dropoff  40682 non-null  float64\n",
            " 4   latitude_of_dropoff   40682 non-null  float64\n",
            " 5   no_of_passenger       40682 non-null  int64  \n",
            "dtypes: float64(5), int64(1)\n",
            "memory usage: 2.2 MB\n"
          ]
        }
      ],
      "source": [
        "df.info()"
      ]
    },
    {
      "cell_type": "code",
      "execution_count": 527,
      "metadata": {
        "id": "yg-fN-n3Ownw"
      },
      "outputs": [],
      "source": [
        "# There are only int and float datatypes hence no need of encoding"
      ]
    },
    {
      "cell_type": "code",
      "execution_count": 528,
      "metadata": {
        "id": "ZDe7mQwvO3K9"
      },
      "outputs": [],
      "source": [
        "x_ns=df.drop(['amount'],axis=1)        #not standardised\n",
        "y_ns=df['amount']      #not standardised"
      ]
    },
    {
      "cell_type": "code",
      "execution_count": 529,
      "metadata": {
        "id": "L3gAErtZPC-r"
      },
      "outputs": [],
      "source": [
        "x_ns_train,x_ns_test,y_ns_train,y_ns_test=train_test_split(x_ns,y_ns,test_size=0.2)"
      ]
    },
    {
      "cell_type": "code",
      "execution_count": 530,
      "metadata": {
        "colab": {
          "base_uri": "https://localhost:8080/"
        },
        "id": "aTEawU3XPGLN",
        "outputId": "a142b1a9-bd34-4548-fb39-7e560ed4b6a9"
      },
      "outputs": [
        {
          "output_type": "execute_result",
          "data": {
            "text/plain": [
              "(32545, 5)"
            ]
          },
          "metadata": {},
          "execution_count": 530
        }
      ],
      "source": [
        "x_ns_train.shape"
      ]
    },
    {
      "cell_type": "code",
      "execution_count": 531,
      "metadata": {
        "colab": {
          "base_uri": "https://localhost:8080/"
        },
        "id": "hY4ddHskPILf",
        "outputId": "1e8d9fa1-2139-4341-e751-67b6ccccc96f"
      },
      "outputs": [
        {
          "output_type": "execute_result",
          "data": {
            "text/plain": [
              "(8137, 5)"
            ]
          },
          "metadata": {},
          "execution_count": 531
        }
      ],
      "source": [
        "x_ns_test.shape"
      ]
    },
    {
      "cell_type": "code",
      "execution_count": 532,
      "metadata": {
        "id": "CABut1BNPJ5z"
      },
      "outputs": [],
      "source": [
        "# Linear Regression without standardisation"
      ]
    },
    {
      "cell_type": "code",
      "execution_count": 533,
      "metadata": {
        "id": "PVKLermHPRaS"
      },
      "outputs": [],
      "source": [
        "model1=LinearRegression(n_jobs=10)"
      ]
    },
    {
      "cell_type": "code",
      "execution_count": 534,
      "metadata": {
        "colab": {
          "base_uri": "https://localhost:8080/"
        },
        "id": "PHzLqZkmQNR-",
        "outputId": "853b53f3-9029-46b3-8e37-a2ba4da52303"
      },
      "outputs": [
        {
          "output_type": "execute_result",
          "data": {
            "text/plain": [
              "LinearRegression(n_jobs=10)"
            ]
          },
          "metadata": {},
          "execution_count": 534
        }
      ],
      "source": [
        "model1.fit(x_ns_train,y_ns_train)"
      ]
    },
    {
      "cell_type": "code",
      "execution_count": 535,
      "metadata": {
        "colab": {
          "base_uri": "https://localhost:8080/"
        },
        "id": "Iy-IkTXAQUBM",
        "outputId": "9c6caae1-f9f4-4772-c799-63f4a370ff8f"
      },
      "outputs": [
        {
          "output_type": "execute_result",
          "data": {
            "text/plain": [
              "0.012306330246267816"
            ]
          },
          "metadata": {},
          "execution_count": 535
        }
      ],
      "source": [
        "model1.score(x_ns_train,y_ns_train)"
      ]
    },
    {
      "cell_type": "code",
      "execution_count": 536,
      "metadata": {
        "colab": {
          "base_uri": "https://localhost:8080/"
        },
        "id": "MiIaTJbgQWfm",
        "outputId": "8a477610-9819-42de-830a-1a6fb6aeac30"
      },
      "outputs": [
        {
          "output_type": "execute_result",
          "data": {
            "text/plain": [
              "0.011355836932559482"
            ]
          },
          "metadata": {},
          "execution_count": 536
        }
      ],
      "source": [
        "model1.score(x_ns_test,y_ns_test)"
      ]
    },
    {
      "cell_type": "code",
      "execution_count": 537,
      "metadata": {
        "id": "VgaxmOfkQe9x"
      },
      "outputs": [],
      "source": [
        "# KNN without standardisation"
      ]
    },
    {
      "cell_type": "code",
      "execution_count": 538,
      "metadata": {
        "id": "3oGlBdC9ROGl"
      },
      "outputs": [],
      "source": [
        "model2=KNeighborsRegressor(n_neighbors=6)"
      ]
    },
    {
      "cell_type": "code",
      "execution_count": 539,
      "metadata": {
        "colab": {
          "base_uri": "https://localhost:8080/"
        },
        "id": "-6NUWxdJSVl6",
        "outputId": "0ba81abd-8480-45c0-c0bc-2d56f7bc7f9d"
      },
      "outputs": [
        {
          "output_type": "execute_result",
          "data": {
            "text/plain": [
              "KNeighborsRegressor(n_neighbors=6)"
            ]
          },
          "metadata": {},
          "execution_count": 539
        }
      ],
      "source": [
        "model2.fit(x_ns_train,y_ns_train)"
      ]
    },
    {
      "cell_type": "code",
      "execution_count": 540,
      "metadata": {
        "colab": {
          "base_uri": "https://localhost:8080/"
        },
        "id": "JlblL_vJSXl0",
        "outputId": "ddc542e0-4210-4904-a2e9-3f37cdf60979"
      },
      "outputs": [
        {
          "output_type": "execute_result",
          "data": {
            "text/plain": [
              "0.7499797907694028"
            ]
          },
          "metadata": {},
          "execution_count": 540
        }
      ],
      "source": [
        "model2.score(x_ns_train,y_ns_train)"
      ]
    },
    {
      "cell_type": "code",
      "execution_count": 541,
      "metadata": {
        "colab": {
          "base_uri": "https://localhost:8080/"
        },
        "id": "7BWFPm-mSa8w",
        "outputId": "02e1f5c7-2a5b-4732-c911-9b51ead31b79"
      },
      "outputs": [
        {
          "output_type": "execute_result",
          "data": {
            "text/plain": [
              "0.6290868283835731"
            ]
          },
          "metadata": {},
          "execution_count": 541
        }
      ],
      "source": [
        "model2.score(x_ns_test,y_ns_test)"
      ]
    },
    {
      "cell_type": "code",
      "execution_count": 542,
      "metadata": {
        "id": "F0gjoY6FSdZI"
      },
      "outputs": [],
      "source": [
        "# SVR without standardisation"
      ]
    },
    {
      "cell_type": "code",
      "execution_count": 543,
      "metadata": {
        "id": "c7Qm2hUBShaA"
      },
      "outputs": [],
      "source": [
        "model3=SVR(kernel = 'poly')"
      ]
    },
    {
      "cell_type": "code",
      "execution_count": 544,
      "metadata": {
        "colab": {
          "base_uri": "https://localhost:8080/"
        },
        "id": "mp14erZPTZ2k",
        "outputId": "25b62671-a1c4-4d9d-965c-98853c296c37"
      },
      "outputs": [
        {
          "output_type": "execute_result",
          "data": {
            "text/plain": [
              "SVR(kernel='poly')"
            ]
          },
          "metadata": {},
          "execution_count": 544
        }
      ],
      "source": [
        "model3.fit(x_ns_train,y_ns_train)"
      ]
    },
    {
      "cell_type": "code",
      "execution_count": 545,
      "metadata": {
        "colab": {
          "base_uri": "https://localhost:8080/"
        },
        "id": "RSLqUktgTdYc",
        "outputId": "fd2a28cc-390d-4ceb-e0e3-991a418543e4"
      },
      "outputs": [
        {
          "output_type": "execute_result",
          "data": {
            "text/plain": [
              "-0.04634651142804036"
            ]
          },
          "metadata": {},
          "execution_count": 545
        }
      ],
      "source": [
        "model3.score(x_ns_train,y_ns_train)"
      ]
    },
    {
      "cell_type": "code",
      "execution_count": 546,
      "metadata": {
        "colab": {
          "base_uri": "https://localhost:8080/"
        },
        "id": "g_mHHbOWTf1w",
        "outputId": "6349fbc7-9ae3-4ab8-d4e3-8364d171bf8d"
      },
      "outputs": [
        {
          "output_type": "execute_result",
          "data": {
            "text/plain": [
              "-0.05151949511567544"
            ]
          },
          "metadata": {},
          "execution_count": 546
        }
      ],
      "source": [
        "model3.score(x_ns_test,y_ns_test)"
      ]
    },
    {
      "cell_type": "code",
      "execution_count": 547,
      "metadata": {
        "id": "nwtE6v5BTiW2"
      },
      "outputs": [],
      "source": [
        "# Now standardising the dataset for better modelling of the dataset"
      ]
    },
    {
      "cell_type": "code",
      "source": [
        "df_std=df"
      ],
      "metadata": {
        "id": "fPxYkTwcFcYi"
      },
      "execution_count": 548,
      "outputs": []
    },
    {
      "cell_type": "code",
      "execution_count": 549,
      "metadata": {
        "id": "iQo59lWDT8gy"
      },
      "outputs": [],
      "source": [
        "model_std=StandardScaler()"
      ]
    },
    {
      "cell_type": "code",
      "execution_count": 550,
      "metadata": {
        "colab": {
          "base_uri": "https://localhost:8080/"
        },
        "id": "IW0FmpAKagYm",
        "outputId": "c3986f90-4374-4bb9-c725-ff70778e530d"
      },
      "outputs": [
        {
          "output_type": "execute_result",
          "data": {
            "text/plain": [
              "array([[ 2.43421318, -2.13762156, -1.97446855,  0.09295273,  1.29421109,\n",
              "        -0.52080832],\n",
              "       [-0.77178638, -0.0549887 ,  0.40096387, -0.62579365, -0.13203774,\n",
              "         0.25857458],\n",
              "       [-0.19928646, -0.32958862, -0.93619441, -0.64530196,  0.20953257,\n",
              "        -0.52080832],\n",
              "       ...,\n",
              "       [-0.42828643, -1.30294283, -0.63740535, -1.03792933,  0.27263009,\n",
              "        -0.52080832],\n",
              "       [-1.11528633,  2.23809576,  1.17572366,  1.64269334,  1.18910905,\n",
              "         0.25857458],\n",
              "       [ 0.71671341,  3.07958948,  0.52147784,  2.89404675,  0.46868147,\n",
              "        -0.52080832]])"
            ]
          },
          "metadata": {},
          "execution_count": 550
        }
      ],
      "source": [
        "model_std.fit_transform(df_std)"
      ]
    },
    {
      "cell_type": "code",
      "execution_count": 551,
      "metadata": {
        "id": "EdRFNAamah6U"
      },
      "outputs": [],
      "source": [
        "x=df_std.drop(['amount'],axis=1)\n",
        "y=df_std['amount'] "
      ]
    },
    {
      "cell_type": "code",
      "execution_count": 552,
      "metadata": {
        "id": "lJ_P33_Ear0L"
      },
      "outputs": [],
      "source": [
        "x_train,x_test,y_train,y_test=train_test_split(x,y,test_size=0.2)"
      ]
    },
    {
      "cell_type": "code",
      "execution_count": 553,
      "metadata": {
        "colab": {
          "base_uri": "https://localhost:8080/"
        },
        "id": "ZpFqVfotauNo",
        "outputId": "81d3c742-006c-43b0-dd53-d8ada65b4704"
      },
      "outputs": [
        {
          "output_type": "execute_result",
          "data": {
            "text/plain": [
              "(32545, 5)"
            ]
          },
          "metadata": {},
          "execution_count": 553
        }
      ],
      "source": [
        "x_train.shape"
      ]
    },
    {
      "cell_type": "code",
      "execution_count": 554,
      "metadata": {
        "colab": {
          "base_uri": "https://localhost:8080/"
        },
        "id": "qDKr2dKNa1jZ",
        "outputId": "3b517d79-d567-4055-e5c9-84ea9a0fe6f0"
      },
      "outputs": [
        {
          "output_type": "execute_result",
          "data": {
            "text/plain": [
              "(8137, 5)"
            ]
          },
          "metadata": {},
          "execution_count": 554
        }
      ],
      "source": [
        "x_test.shape"
      ]
    },
    {
      "cell_type": "code",
      "execution_count": 555,
      "metadata": {
        "id": "eycClqPca5Mo"
      },
      "outputs": [],
      "source": [
        "# Linear Regression"
      ]
    },
    {
      "cell_type": "code",
      "execution_count": 556,
      "metadata": {
        "id": "VqdRLdjYa-Ab"
      },
      "outputs": [],
      "source": [
        "model4=LinearRegression(n_jobs=15)"
      ]
    },
    {
      "cell_type": "code",
      "execution_count": 557,
      "metadata": {
        "colab": {
          "base_uri": "https://localhost:8080/"
        },
        "id": "q0bo9zDmbESV",
        "outputId": "ed829779-a535-4fca-de15-b19408746cb6"
      },
      "outputs": [
        {
          "output_type": "execute_result",
          "data": {
            "text/plain": [
              "LinearRegression(n_jobs=15)"
            ]
          },
          "metadata": {},
          "execution_count": 557
        }
      ],
      "source": [
        "model4.fit(x_train,y_train)"
      ]
    },
    {
      "cell_type": "code",
      "execution_count": 558,
      "metadata": {
        "colab": {
          "base_uri": "https://localhost:8080/"
        },
        "id": "j6t_8w82bN3C",
        "outputId": "30188e3f-1dfe-4346-9bfc-8edb334ede8d"
      },
      "outputs": [
        {
          "output_type": "execute_result",
          "data": {
            "text/plain": [
              "0.012543730002801845"
            ]
          },
          "metadata": {},
          "execution_count": 558
        }
      ],
      "source": [
        "model4.score(x_train,y_train)"
      ]
    },
    {
      "cell_type": "code",
      "execution_count": 559,
      "metadata": {
        "colab": {
          "base_uri": "https://localhost:8080/"
        },
        "id": "ixsuC8smbRf3",
        "outputId": "cf76b5f6-db3d-4e06-9e67-44f3994d8c1f"
      },
      "outputs": [
        {
          "output_type": "execute_result",
          "data": {
            "text/plain": [
              "0.010466836833868842"
            ]
          },
          "metadata": {},
          "execution_count": 559
        }
      ],
      "source": [
        "model4.score(x_test,y_test)"
      ]
    },
    {
      "cell_type": "code",
      "execution_count": 560,
      "metadata": {
        "id": "tuTUhYVobknu"
      },
      "outputs": [],
      "source": [
        "# KNN Regression"
      ]
    },
    {
      "cell_type": "code",
      "execution_count": 561,
      "metadata": {
        "id": "ZT_ISwBQbyoE"
      },
      "outputs": [],
      "source": [
        "model5=KNeighborsRegressor(n_neighbors=11)"
      ]
    },
    {
      "cell_type": "code",
      "execution_count": 562,
      "metadata": {
        "colab": {
          "base_uri": "https://localhost:8080/"
        },
        "id": "95TOs1L6b4k5",
        "outputId": "72c3f24a-25c9-40a8-f1d5-6b22fe8ef081"
      },
      "outputs": [
        {
          "output_type": "execute_result",
          "data": {
            "text/plain": [
              "KNeighborsRegressor(n_neighbors=11)"
            ]
          },
          "metadata": {},
          "execution_count": 562
        }
      ],
      "source": [
        "model5.fit(x_train,y_train)"
      ]
    },
    {
      "cell_type": "code",
      "execution_count": 563,
      "metadata": {
        "colab": {
          "base_uri": "https://localhost:8080/"
        },
        "id": "OJRv6Mv9b-uf",
        "outputId": "899e3e33-176f-4585-c404-f95911103121"
      },
      "outputs": [
        {
          "output_type": "execute_result",
          "data": {
            "text/plain": [
              "0.717164829539872"
            ]
          },
          "metadata": {},
          "execution_count": 563
        }
      ],
      "source": [
        "model5.score(x_train,y_train)"
      ]
    },
    {
      "cell_type": "code",
      "execution_count": 564,
      "metadata": {
        "colab": {
          "base_uri": "https://localhost:8080/"
        },
        "id": "aL-YiIK3cAHR",
        "outputId": "11424568-6dc0-4b28-84e5-6dc4e0c4be24"
      },
      "outputs": [
        {
          "output_type": "execute_result",
          "data": {
            "text/plain": [
              "0.6512874693122358"
            ]
          },
          "metadata": {},
          "execution_count": 564
        }
      ],
      "source": [
        "model5.score(x_test,y_test)"
      ]
    },
    {
      "cell_type": "code",
      "execution_count": 565,
      "metadata": {
        "id": "h-kidag9cOmJ"
      },
      "outputs": [],
      "source": [
        "# SVR "
      ]
    },
    {
      "cell_type": "code",
      "execution_count": 566,
      "metadata": {
        "id": "N3b6LM9vcTKU"
      },
      "outputs": [],
      "source": [
        "model6=SVR()"
      ]
    },
    {
      "cell_type": "code",
      "execution_count": 567,
      "metadata": {
        "colab": {
          "base_uri": "https://localhost:8080/"
        },
        "id": "2CYfm8hfc7KC",
        "outputId": "f99336c0-8373-428b-d24f-1a68dfcf6c37"
      },
      "outputs": [
        {
          "output_type": "execute_result",
          "data": {
            "text/plain": [
              "SVR()"
            ]
          },
          "metadata": {},
          "execution_count": 567
        }
      ],
      "source": [
        "model6.fit(x_train,y_train)"
      ]
    },
    {
      "cell_type": "code",
      "execution_count": 568,
      "metadata": {
        "id": "DgNc9YPAc-F2",
        "colab": {
          "base_uri": "https://localhost:8080/"
        },
        "outputId": "6bcfe312-9c41-4b27-e3f6-3c2b9e487f27"
      },
      "outputs": [
        {
          "output_type": "execute_result",
          "data": {
            "text/plain": [
              "-0.048702498107424885"
            ]
          },
          "metadata": {},
          "execution_count": 568
        }
      ],
      "source": [
        "model6.score(x_train,y_train)"
      ]
    },
    {
      "cell_type": "code",
      "execution_count": 569,
      "metadata": {
        "id": "P2Bd3X0mdBdi",
        "colab": {
          "base_uri": "https://localhost:8080/"
        },
        "outputId": "77dcbbd5-39ad-4dec-b138-3e865d9758e7"
      },
      "outputs": [
        {
          "output_type": "execute_result",
          "data": {
            "text/plain": [
              "-0.044884655076408375"
            ]
          },
          "metadata": {},
          "execution_count": 569
        }
      ],
      "source": [
        "model6.score(x_test,y_test)"
      ]
    },
    {
      "cell_type": "code",
      "execution_count": 570,
      "metadata": {
        "id": "dXnLMzdzdFP7"
      },
      "outputs": [],
      "source": [
        "# The models are not fitting properly even after standardising this can be because of uneven values of latitude and longitude so let us take the change in coordinates "
      ]
    },
    {
      "cell_type": "code",
      "source": [
        "df.head()"
      ],
      "metadata": {
        "colab": {
          "base_uri": "https://localhost:8080/",
          "height": 206
        },
        "id": "F-Iijp6iFslQ",
        "outputId": "ffb37aed-c96f-4e60-cbbc-37e1dbf7615e"
      },
      "execution_count": 571,
      "outputs": [
        {
          "output_type": "execute_result",
          "data": {
            "text/plain": [
              "   amount  longitude_of_pickup  latitude_of_pickup  longitude_of_dropoff  \\\n",
              "1    16.9           -74.016048           40.711303            -73.979268   \n",
              "2     5.7           -73.982738           40.761270            -73.991242   \n",
              "3     7.7           -73.987130           40.733143            -73.991567   \n",
              "4     5.3           -73.968095           40.768008            -73.956655   \n",
              "5    12.1           -74.000964           40.731630            -73.972892   \n",
              "\n",
              "   latitude_of_dropoff  no_of_passenger  \n",
              "1            40.782004                1  \n",
              "2            40.750562                2  \n",
              "3            40.758092                1  \n",
              "4            40.783762                1  \n",
              "5            40.758233                1  "
            ],
            "text/html": [
              "\n",
              "  <div id=\"df-c9d06dbc-3ebc-4dd4-8746-63511bbd4c52\">\n",
              "    <div class=\"colab-df-container\">\n",
              "      <div>\n",
              "<style scoped>\n",
              "    .dataframe tbody tr th:only-of-type {\n",
              "        vertical-align: middle;\n",
              "    }\n",
              "\n",
              "    .dataframe tbody tr th {\n",
              "        vertical-align: top;\n",
              "    }\n",
              "\n",
              "    .dataframe thead th {\n",
              "        text-align: right;\n",
              "    }\n",
              "</style>\n",
              "<table border=\"1\" class=\"dataframe\">\n",
              "  <thead>\n",
              "    <tr style=\"text-align: right;\">\n",
              "      <th></th>\n",
              "      <th>amount</th>\n",
              "      <th>longitude_of_pickup</th>\n",
              "      <th>latitude_of_pickup</th>\n",
              "      <th>longitude_of_dropoff</th>\n",
              "      <th>latitude_of_dropoff</th>\n",
              "      <th>no_of_passenger</th>\n",
              "    </tr>\n",
              "  </thead>\n",
              "  <tbody>\n",
              "    <tr>\n",
              "      <th>1</th>\n",
              "      <td>16.9</td>\n",
              "      <td>-74.016048</td>\n",
              "      <td>40.711303</td>\n",
              "      <td>-73.979268</td>\n",
              "      <td>40.782004</td>\n",
              "      <td>1</td>\n",
              "    </tr>\n",
              "    <tr>\n",
              "      <th>2</th>\n",
              "      <td>5.7</td>\n",
              "      <td>-73.982738</td>\n",
              "      <td>40.761270</td>\n",
              "      <td>-73.991242</td>\n",
              "      <td>40.750562</td>\n",
              "      <td>2</td>\n",
              "    </tr>\n",
              "    <tr>\n",
              "      <th>3</th>\n",
              "      <td>7.7</td>\n",
              "      <td>-73.987130</td>\n",
              "      <td>40.733143</td>\n",
              "      <td>-73.991567</td>\n",
              "      <td>40.758092</td>\n",
              "      <td>1</td>\n",
              "    </tr>\n",
              "    <tr>\n",
              "      <th>4</th>\n",
              "      <td>5.3</td>\n",
              "      <td>-73.968095</td>\n",
              "      <td>40.768008</td>\n",
              "      <td>-73.956655</td>\n",
              "      <td>40.783762</td>\n",
              "      <td>1</td>\n",
              "    </tr>\n",
              "    <tr>\n",
              "      <th>5</th>\n",
              "      <td>12.1</td>\n",
              "      <td>-74.000964</td>\n",
              "      <td>40.731630</td>\n",
              "      <td>-73.972892</td>\n",
              "      <td>40.758233</td>\n",
              "      <td>1</td>\n",
              "    </tr>\n",
              "  </tbody>\n",
              "</table>\n",
              "</div>\n",
              "      <button class=\"colab-df-convert\" onclick=\"convertToInteractive('df-c9d06dbc-3ebc-4dd4-8746-63511bbd4c52')\"\n",
              "              title=\"Convert this dataframe to an interactive table.\"\n",
              "              style=\"display:none;\">\n",
              "        \n",
              "  <svg xmlns=\"http://www.w3.org/2000/svg\" height=\"24px\"viewBox=\"0 0 24 24\"\n",
              "       width=\"24px\">\n",
              "    <path d=\"M0 0h24v24H0V0z\" fill=\"none\"/>\n",
              "    <path d=\"M18.56 5.44l.94 2.06.94-2.06 2.06-.94-2.06-.94-.94-2.06-.94 2.06-2.06.94zm-11 1L8.5 8.5l.94-2.06 2.06-.94-2.06-.94L8.5 2.5l-.94 2.06-2.06.94zm10 10l.94 2.06.94-2.06 2.06-.94-2.06-.94-.94-2.06-.94 2.06-2.06.94z\"/><path d=\"M17.41 7.96l-1.37-1.37c-.4-.4-.92-.59-1.43-.59-.52 0-1.04.2-1.43.59L10.3 9.45l-7.72 7.72c-.78.78-.78 2.05 0 2.83L4 21.41c.39.39.9.59 1.41.59.51 0 1.02-.2 1.41-.59l7.78-7.78 2.81-2.81c.8-.78.8-2.07 0-2.86zM5.41 20L4 18.59l7.72-7.72 1.47 1.35L5.41 20z\"/>\n",
              "  </svg>\n",
              "      </button>\n",
              "      \n",
              "  <style>\n",
              "    .colab-df-container {\n",
              "      display:flex;\n",
              "      flex-wrap:wrap;\n",
              "      gap: 12px;\n",
              "    }\n",
              "\n",
              "    .colab-df-convert {\n",
              "      background-color: #E8F0FE;\n",
              "      border: none;\n",
              "      border-radius: 50%;\n",
              "      cursor: pointer;\n",
              "      display: none;\n",
              "      fill: #1967D2;\n",
              "      height: 32px;\n",
              "      padding: 0 0 0 0;\n",
              "      width: 32px;\n",
              "    }\n",
              "\n",
              "    .colab-df-convert:hover {\n",
              "      background-color: #E2EBFA;\n",
              "      box-shadow: 0px 1px 2px rgba(60, 64, 67, 0.3), 0px 1px 3px 1px rgba(60, 64, 67, 0.15);\n",
              "      fill: #174EA6;\n",
              "    }\n",
              "\n",
              "    [theme=dark] .colab-df-convert {\n",
              "      background-color: #3B4455;\n",
              "      fill: #D2E3FC;\n",
              "    }\n",
              "\n",
              "    [theme=dark] .colab-df-convert:hover {\n",
              "      background-color: #434B5C;\n",
              "      box-shadow: 0px 1px 3px 1px rgba(0, 0, 0, 0.15);\n",
              "      filter: drop-shadow(0px 1px 2px rgba(0, 0, 0, 0.3));\n",
              "      fill: #FFFFFF;\n",
              "    }\n",
              "  </style>\n",
              "\n",
              "      <script>\n",
              "        const buttonEl =\n",
              "          document.querySelector('#df-c9d06dbc-3ebc-4dd4-8746-63511bbd4c52 button.colab-df-convert');\n",
              "        buttonEl.style.display =\n",
              "          google.colab.kernel.accessAllowed ? 'block' : 'none';\n",
              "\n",
              "        async function convertToInteractive(key) {\n",
              "          const element = document.querySelector('#df-c9d06dbc-3ebc-4dd4-8746-63511bbd4c52');\n",
              "          const dataTable =\n",
              "            await google.colab.kernel.invokeFunction('convertToInteractive',\n",
              "                                                     [key], {});\n",
              "          if (!dataTable) return;\n",
              "\n",
              "          const docLinkHtml = 'Like what you see? Visit the ' +\n",
              "            '<a target=\"_blank\" href=https://colab.research.google.com/notebooks/data_table.ipynb>data table notebook</a>'\n",
              "            + ' to learn more about interactive tables.';\n",
              "          element.innerHTML = '';\n",
              "          dataTable['output_type'] = 'display_data';\n",
              "          await google.colab.output.renderOutput(dataTable, element);\n",
              "          const docLink = document.createElement('div');\n",
              "          docLink.innerHTML = docLinkHtml;\n",
              "          element.appendChild(docLink);\n",
              "        }\n",
              "      </script>\n",
              "    </div>\n",
              "  </div>\n",
              "  "
            ]
          },
          "metadata": {},
          "execution_count": 571
        }
      ]
    },
    {
      "cell_type": "code",
      "source": [
        "df['longitude_of_pickup']=abs(df['longitude_of_pickup']-df['longitude_of_dropoff'])"
      ],
      "metadata": {
        "id": "30T5MHJoGZ0X"
      },
      "execution_count": 572,
      "outputs": []
    },
    {
      "cell_type": "code",
      "source": [
        "df['latitude_of_pickup']=abs(df['latitude_of_pickup']-df['latitude_of_dropoff'])"
      ],
      "metadata": {
        "id": "bMTTzXInGdRN"
      },
      "execution_count": 573,
      "outputs": []
    },
    {
      "cell_type": "code",
      "source": [
        "column=['longitude_of_dropoff','latitude_of_dropoff']\n",
        "df.drop(column,axis=1,inplace=True)"
      ],
      "metadata": {
        "id": "MYmP9aXoGwIx"
      },
      "execution_count": 574,
      "outputs": []
    },
    {
      "cell_type": "code",
      "source": [
        "df.head()"
      ],
      "metadata": {
        "colab": {
          "base_uri": "https://localhost:8080/",
          "height": 206
        },
        "id": "wtVMbVk9HARr",
        "outputId": "5771a5d6-631d-4c2a-aeee-c6d9ce5977f6"
      },
      "execution_count": 575,
      "outputs": [
        {
          "output_type": "execute_result",
          "data": {
            "text/plain": [
              "   amount  longitude_of_pickup  latitude_of_pickup  no_of_passenger\n",
              "1    16.9             0.036780            0.070701                1\n",
              "2     5.7             0.008504            0.010708                2\n",
              "3     7.7             0.004437            0.024949                1\n",
              "4     5.3             0.011440            0.015754                1\n",
              "5    12.1             0.028072            0.026603                1"
            ],
            "text/html": [
              "\n",
              "  <div id=\"df-7991a707-cdc2-41d6-8c4f-ecf95fd8703e\">\n",
              "    <div class=\"colab-df-container\">\n",
              "      <div>\n",
              "<style scoped>\n",
              "    .dataframe tbody tr th:only-of-type {\n",
              "        vertical-align: middle;\n",
              "    }\n",
              "\n",
              "    .dataframe tbody tr th {\n",
              "        vertical-align: top;\n",
              "    }\n",
              "\n",
              "    .dataframe thead th {\n",
              "        text-align: right;\n",
              "    }\n",
              "</style>\n",
              "<table border=\"1\" class=\"dataframe\">\n",
              "  <thead>\n",
              "    <tr style=\"text-align: right;\">\n",
              "      <th></th>\n",
              "      <th>amount</th>\n",
              "      <th>longitude_of_pickup</th>\n",
              "      <th>latitude_of_pickup</th>\n",
              "      <th>no_of_passenger</th>\n",
              "    </tr>\n",
              "  </thead>\n",
              "  <tbody>\n",
              "    <tr>\n",
              "      <th>1</th>\n",
              "      <td>16.9</td>\n",
              "      <td>0.036780</td>\n",
              "      <td>0.070701</td>\n",
              "      <td>1</td>\n",
              "    </tr>\n",
              "    <tr>\n",
              "      <th>2</th>\n",
              "      <td>5.7</td>\n",
              "      <td>0.008504</td>\n",
              "      <td>0.010708</td>\n",
              "      <td>2</td>\n",
              "    </tr>\n",
              "    <tr>\n",
              "      <th>3</th>\n",
              "      <td>7.7</td>\n",
              "      <td>0.004437</td>\n",
              "      <td>0.024949</td>\n",
              "      <td>1</td>\n",
              "    </tr>\n",
              "    <tr>\n",
              "      <th>4</th>\n",
              "      <td>5.3</td>\n",
              "      <td>0.011440</td>\n",
              "      <td>0.015754</td>\n",
              "      <td>1</td>\n",
              "    </tr>\n",
              "    <tr>\n",
              "      <th>5</th>\n",
              "      <td>12.1</td>\n",
              "      <td>0.028072</td>\n",
              "      <td>0.026603</td>\n",
              "      <td>1</td>\n",
              "    </tr>\n",
              "  </tbody>\n",
              "</table>\n",
              "</div>\n",
              "      <button class=\"colab-df-convert\" onclick=\"convertToInteractive('df-7991a707-cdc2-41d6-8c4f-ecf95fd8703e')\"\n",
              "              title=\"Convert this dataframe to an interactive table.\"\n",
              "              style=\"display:none;\">\n",
              "        \n",
              "  <svg xmlns=\"http://www.w3.org/2000/svg\" height=\"24px\"viewBox=\"0 0 24 24\"\n",
              "       width=\"24px\">\n",
              "    <path d=\"M0 0h24v24H0V0z\" fill=\"none\"/>\n",
              "    <path d=\"M18.56 5.44l.94 2.06.94-2.06 2.06-.94-2.06-.94-.94-2.06-.94 2.06-2.06.94zm-11 1L8.5 8.5l.94-2.06 2.06-.94-2.06-.94L8.5 2.5l-.94 2.06-2.06.94zm10 10l.94 2.06.94-2.06 2.06-.94-2.06-.94-.94-2.06-.94 2.06-2.06.94z\"/><path d=\"M17.41 7.96l-1.37-1.37c-.4-.4-.92-.59-1.43-.59-.52 0-1.04.2-1.43.59L10.3 9.45l-7.72 7.72c-.78.78-.78 2.05 0 2.83L4 21.41c.39.39.9.59 1.41.59.51 0 1.02-.2 1.41-.59l7.78-7.78 2.81-2.81c.8-.78.8-2.07 0-2.86zM5.41 20L4 18.59l7.72-7.72 1.47 1.35L5.41 20z\"/>\n",
              "  </svg>\n",
              "      </button>\n",
              "      \n",
              "  <style>\n",
              "    .colab-df-container {\n",
              "      display:flex;\n",
              "      flex-wrap:wrap;\n",
              "      gap: 12px;\n",
              "    }\n",
              "\n",
              "    .colab-df-convert {\n",
              "      background-color: #E8F0FE;\n",
              "      border: none;\n",
              "      border-radius: 50%;\n",
              "      cursor: pointer;\n",
              "      display: none;\n",
              "      fill: #1967D2;\n",
              "      height: 32px;\n",
              "      padding: 0 0 0 0;\n",
              "      width: 32px;\n",
              "    }\n",
              "\n",
              "    .colab-df-convert:hover {\n",
              "      background-color: #E2EBFA;\n",
              "      box-shadow: 0px 1px 2px rgba(60, 64, 67, 0.3), 0px 1px 3px 1px rgba(60, 64, 67, 0.15);\n",
              "      fill: #174EA6;\n",
              "    }\n",
              "\n",
              "    [theme=dark] .colab-df-convert {\n",
              "      background-color: #3B4455;\n",
              "      fill: #D2E3FC;\n",
              "    }\n",
              "\n",
              "    [theme=dark] .colab-df-convert:hover {\n",
              "      background-color: #434B5C;\n",
              "      box-shadow: 0px 1px 3px 1px rgba(0, 0, 0, 0.15);\n",
              "      filter: drop-shadow(0px 1px 2px rgba(0, 0, 0, 0.3));\n",
              "      fill: #FFFFFF;\n",
              "    }\n",
              "  </style>\n",
              "\n",
              "      <script>\n",
              "        const buttonEl =\n",
              "          document.querySelector('#df-7991a707-cdc2-41d6-8c4f-ecf95fd8703e button.colab-df-convert');\n",
              "        buttonEl.style.display =\n",
              "          google.colab.kernel.accessAllowed ? 'block' : 'none';\n",
              "\n",
              "        async function convertToInteractive(key) {\n",
              "          const element = document.querySelector('#df-7991a707-cdc2-41d6-8c4f-ecf95fd8703e');\n",
              "          const dataTable =\n",
              "            await google.colab.kernel.invokeFunction('convertToInteractive',\n",
              "                                                     [key], {});\n",
              "          if (!dataTable) return;\n",
              "\n",
              "          const docLinkHtml = 'Like what you see? Visit the ' +\n",
              "            '<a target=\"_blank\" href=https://colab.research.google.com/notebooks/data_table.ipynb>data table notebook</a>'\n",
              "            + ' to learn more about interactive tables.';\n",
              "          element.innerHTML = '';\n",
              "          dataTable['output_type'] = 'display_data';\n",
              "          await google.colab.output.renderOutput(dataTable, element);\n",
              "          const docLink = document.createElement('div');\n",
              "          docLink.innerHTML = docLinkHtml;\n",
              "          element.appendChild(docLink);\n",
              "        }\n",
              "      </script>\n",
              "    </div>\n",
              "  </div>\n",
              "  "
            ]
          },
          "metadata": {},
          "execution_count": 575
        }
      ]
    },
    {
      "cell_type": "code",
      "source": [
        "df.rename(columns={'latitude_of_pickup': 'Latitude_change'}, inplace=True)"
      ],
      "metadata": {
        "id": "Lu2VVH5TNKL0"
      },
      "execution_count": 576,
      "outputs": []
    },
    {
      "cell_type": "code",
      "source": [
        "df.rename(columns={'longitude_of_pickup': 'Longitude_change'}, inplace=True)"
      ],
      "metadata": {
        "id": "fnXEF78ZNmvY"
      },
      "execution_count": 577,
      "outputs": []
    },
    {
      "cell_type": "code",
      "source": [
        "# Now standardising the dataset for better modelling of the dataset"
      ],
      "metadata": {
        "id": "zY8sXIxIHdq6"
      },
      "execution_count": 578,
      "outputs": []
    },
    {
      "cell_type": "code",
      "source": [
        "model_std=StandardScaler()"
      ],
      "metadata": {
        "id": "zUWzCdurHoMf"
      },
      "execution_count": 579,
      "outputs": []
    },
    {
      "cell_type": "code",
      "source": [
        "model_std.fit_transform(df)"
      ],
      "metadata": {
        "colab": {
          "base_uri": "https://localhost:8080/"
        },
        "id": "Np5tjCW5HsaM",
        "outputId": "343c679e-7d8d-4a7b-9df1-ad4992f57d34"
      },
      "execution_count": 580,
      "outputs": [
        {
          "output_type": "execute_result",
          "data": {
            "text/plain": [
              "array([[ 2.43421318,  2.15227352,  4.18740802, -0.52080832],\n",
              "       [-0.77178638, -0.47555229, -0.4137537 ,  0.25857458],\n",
              "       [-0.19928646, -0.85351832,  0.67845946, -0.52080832],\n",
              "       ...,\n",
              "       [-0.42828643, -0.83929929,  0.30311425, -0.52080832],\n",
              "       [-1.11528633, -0.57926758, -1.07241015,  0.25857458],\n",
              "       [ 0.71671341, -1.26587025, -1.2350035 , -0.52080832]])"
            ]
          },
          "metadata": {},
          "execution_count": 580
        }
      ]
    },
    {
      "cell_type": "code",
      "source": [
        "df.head()"
      ],
      "metadata": {
        "colab": {
          "base_uri": "https://localhost:8080/",
          "height": 206
        },
        "id": "d_SdrI3GHxSM",
        "outputId": "b3652194-b2f7-43bc-abd3-b20ba0e89312"
      },
      "execution_count": 581,
      "outputs": [
        {
          "output_type": "execute_result",
          "data": {
            "text/plain": [
              "   amount  Longitude_change  Latitude_change  no_of_passenger\n",
              "1    16.9          0.036780         0.070701                1\n",
              "2     5.7          0.008504         0.010708                2\n",
              "3     7.7          0.004437         0.024949                1\n",
              "4     5.3          0.011440         0.015754                1\n",
              "5    12.1          0.028072         0.026603                1"
            ],
            "text/html": [
              "\n",
              "  <div id=\"df-1b30fe8b-eabd-49b5-b859-40a03b83b8b6\">\n",
              "    <div class=\"colab-df-container\">\n",
              "      <div>\n",
              "<style scoped>\n",
              "    .dataframe tbody tr th:only-of-type {\n",
              "        vertical-align: middle;\n",
              "    }\n",
              "\n",
              "    .dataframe tbody tr th {\n",
              "        vertical-align: top;\n",
              "    }\n",
              "\n",
              "    .dataframe thead th {\n",
              "        text-align: right;\n",
              "    }\n",
              "</style>\n",
              "<table border=\"1\" class=\"dataframe\">\n",
              "  <thead>\n",
              "    <tr style=\"text-align: right;\">\n",
              "      <th></th>\n",
              "      <th>amount</th>\n",
              "      <th>Longitude_change</th>\n",
              "      <th>Latitude_change</th>\n",
              "      <th>no_of_passenger</th>\n",
              "    </tr>\n",
              "  </thead>\n",
              "  <tbody>\n",
              "    <tr>\n",
              "      <th>1</th>\n",
              "      <td>16.9</td>\n",
              "      <td>0.036780</td>\n",
              "      <td>0.070701</td>\n",
              "      <td>1</td>\n",
              "    </tr>\n",
              "    <tr>\n",
              "      <th>2</th>\n",
              "      <td>5.7</td>\n",
              "      <td>0.008504</td>\n",
              "      <td>0.010708</td>\n",
              "      <td>2</td>\n",
              "    </tr>\n",
              "    <tr>\n",
              "      <th>3</th>\n",
              "      <td>7.7</td>\n",
              "      <td>0.004437</td>\n",
              "      <td>0.024949</td>\n",
              "      <td>1</td>\n",
              "    </tr>\n",
              "    <tr>\n",
              "      <th>4</th>\n",
              "      <td>5.3</td>\n",
              "      <td>0.011440</td>\n",
              "      <td>0.015754</td>\n",
              "      <td>1</td>\n",
              "    </tr>\n",
              "    <tr>\n",
              "      <th>5</th>\n",
              "      <td>12.1</td>\n",
              "      <td>0.028072</td>\n",
              "      <td>0.026603</td>\n",
              "      <td>1</td>\n",
              "    </tr>\n",
              "  </tbody>\n",
              "</table>\n",
              "</div>\n",
              "      <button class=\"colab-df-convert\" onclick=\"convertToInteractive('df-1b30fe8b-eabd-49b5-b859-40a03b83b8b6')\"\n",
              "              title=\"Convert this dataframe to an interactive table.\"\n",
              "              style=\"display:none;\">\n",
              "        \n",
              "  <svg xmlns=\"http://www.w3.org/2000/svg\" height=\"24px\"viewBox=\"0 0 24 24\"\n",
              "       width=\"24px\">\n",
              "    <path d=\"M0 0h24v24H0V0z\" fill=\"none\"/>\n",
              "    <path d=\"M18.56 5.44l.94 2.06.94-2.06 2.06-.94-2.06-.94-.94-2.06-.94 2.06-2.06.94zm-11 1L8.5 8.5l.94-2.06 2.06-.94-2.06-.94L8.5 2.5l-.94 2.06-2.06.94zm10 10l.94 2.06.94-2.06 2.06-.94-2.06-.94-.94-2.06-.94 2.06-2.06.94z\"/><path d=\"M17.41 7.96l-1.37-1.37c-.4-.4-.92-.59-1.43-.59-.52 0-1.04.2-1.43.59L10.3 9.45l-7.72 7.72c-.78.78-.78 2.05 0 2.83L4 21.41c.39.39.9.59 1.41.59.51 0 1.02-.2 1.41-.59l7.78-7.78 2.81-2.81c.8-.78.8-2.07 0-2.86zM5.41 20L4 18.59l7.72-7.72 1.47 1.35L5.41 20z\"/>\n",
              "  </svg>\n",
              "      </button>\n",
              "      \n",
              "  <style>\n",
              "    .colab-df-container {\n",
              "      display:flex;\n",
              "      flex-wrap:wrap;\n",
              "      gap: 12px;\n",
              "    }\n",
              "\n",
              "    .colab-df-convert {\n",
              "      background-color: #E8F0FE;\n",
              "      border: none;\n",
              "      border-radius: 50%;\n",
              "      cursor: pointer;\n",
              "      display: none;\n",
              "      fill: #1967D2;\n",
              "      height: 32px;\n",
              "      padding: 0 0 0 0;\n",
              "      width: 32px;\n",
              "    }\n",
              "\n",
              "    .colab-df-convert:hover {\n",
              "      background-color: #E2EBFA;\n",
              "      box-shadow: 0px 1px 2px rgba(60, 64, 67, 0.3), 0px 1px 3px 1px rgba(60, 64, 67, 0.15);\n",
              "      fill: #174EA6;\n",
              "    }\n",
              "\n",
              "    [theme=dark] .colab-df-convert {\n",
              "      background-color: #3B4455;\n",
              "      fill: #D2E3FC;\n",
              "    }\n",
              "\n",
              "    [theme=dark] .colab-df-convert:hover {\n",
              "      background-color: #434B5C;\n",
              "      box-shadow: 0px 1px 3px 1px rgba(0, 0, 0, 0.15);\n",
              "      filter: drop-shadow(0px 1px 2px rgba(0, 0, 0, 0.3));\n",
              "      fill: #FFFFFF;\n",
              "    }\n",
              "  </style>\n",
              "\n",
              "      <script>\n",
              "        const buttonEl =\n",
              "          document.querySelector('#df-1b30fe8b-eabd-49b5-b859-40a03b83b8b6 button.colab-df-convert');\n",
              "        buttonEl.style.display =\n",
              "          google.colab.kernel.accessAllowed ? 'block' : 'none';\n",
              "\n",
              "        async function convertToInteractive(key) {\n",
              "          const element = document.querySelector('#df-1b30fe8b-eabd-49b5-b859-40a03b83b8b6');\n",
              "          const dataTable =\n",
              "            await google.colab.kernel.invokeFunction('convertToInteractive',\n",
              "                                                     [key], {});\n",
              "          if (!dataTable) return;\n",
              "\n",
              "          const docLinkHtml = 'Like what you see? Visit the ' +\n",
              "            '<a target=\"_blank\" href=https://colab.research.google.com/notebooks/data_table.ipynb>data table notebook</a>'\n",
              "            + ' to learn more about interactive tables.';\n",
              "          element.innerHTML = '';\n",
              "          dataTable['output_type'] = 'display_data';\n",
              "          await google.colab.output.renderOutput(dataTable, element);\n",
              "          const docLink = document.createElement('div');\n",
              "          docLink.innerHTML = docLinkHtml;\n",
              "          element.appendChild(docLink);\n",
              "        }\n",
              "      </script>\n",
              "    </div>\n",
              "  </div>\n",
              "  "
            ]
          },
          "metadata": {},
          "execution_count": 581
        }
      ]
    },
    {
      "cell_type": "code",
      "source": [
        "x=df.drop(['amount'],axis=1)\n",
        "y=df['amount'] "
      ],
      "metadata": {
        "id": "NJg3-rvjHzsC"
      },
      "execution_count": 582,
      "outputs": []
    },
    {
      "cell_type": "code",
      "source": [
        "x_train,x_test,y_train,y_test=train_test_split(x,y,test_size=0.2)"
      ],
      "metadata": {
        "id": "vlYVP0y0IETX"
      },
      "execution_count": 583,
      "outputs": []
    },
    {
      "cell_type": "code",
      "source": [
        "x_train.shape"
      ],
      "metadata": {
        "colab": {
          "base_uri": "https://localhost:8080/"
        },
        "id": "BS4n29N5IIYB",
        "outputId": "1361b94b-f808-4dc2-fd9b-1df0bbd63a50"
      },
      "execution_count": 584,
      "outputs": [
        {
          "output_type": "execute_result",
          "data": {
            "text/plain": [
              "(32545, 3)"
            ]
          },
          "metadata": {},
          "execution_count": 584
        }
      ]
    },
    {
      "cell_type": "code",
      "source": [
        "x_test.shape"
      ],
      "metadata": {
        "colab": {
          "base_uri": "https://localhost:8080/"
        },
        "id": "4uli7rTAIJ2l",
        "outputId": "3ddf0bf2-2b39-434c-f1e8-bb40eface7d0"
      },
      "execution_count": 585,
      "outputs": [
        {
          "output_type": "execute_result",
          "data": {
            "text/plain": [
              "(8137, 3)"
            ]
          },
          "metadata": {},
          "execution_count": 585
        }
      ]
    },
    {
      "cell_type": "code",
      "source": [
        "# Linear Regression"
      ],
      "metadata": {
        "id": "z9P69RxnIOAx"
      },
      "execution_count": 586,
      "outputs": []
    },
    {
      "cell_type": "code",
      "source": [
        "model7=LinearRegression(n_jobs=7)"
      ],
      "metadata": {
        "id": "OeIkLsenIX0h"
      },
      "execution_count": 587,
      "outputs": []
    },
    {
      "cell_type": "code",
      "source": [
        "model7.fit(x_train,y_train)"
      ],
      "metadata": {
        "colab": {
          "base_uri": "https://localhost:8080/"
        },
        "id": "yjSf1YFdIeJm",
        "outputId": "038b11d4-c796-4314-e7b9-f72aa759c211"
      },
      "execution_count": 588,
      "outputs": [
        {
          "output_type": "execute_result",
          "data": {
            "text/plain": [
              "LinearRegression(n_jobs=7)"
            ]
          },
          "metadata": {},
          "execution_count": 588
        }
      ]
    },
    {
      "cell_type": "code",
      "source": [
        "model7.score(x_train,y_train)"
      ],
      "metadata": {
        "colab": {
          "base_uri": "https://localhost:8080/"
        },
        "id": "oJ4PP81XIfWs",
        "outputId": "2f7eb352-b68b-494f-9ca6-d26676f4a70b"
      },
      "execution_count": 589,
      "outputs": [
        {
          "output_type": "execute_result",
          "data": {
            "text/plain": [
              "0.6056865246523712"
            ]
          },
          "metadata": {},
          "execution_count": 589
        }
      ]
    },
    {
      "cell_type": "code",
      "source": [
        "model7.score(x_test,y_test)"
      ],
      "metadata": {
        "colab": {
          "base_uri": "https://localhost:8080/"
        },
        "id": "bFYA3XrGIkCa",
        "outputId": "a4211fbc-9375-4868-c59d-fb50102eaba4"
      },
      "execution_count": 590,
      "outputs": [
        {
          "output_type": "execute_result",
          "data": {
            "text/plain": [
              "0.5981754347577442"
            ]
          },
          "metadata": {},
          "execution_count": 590
        }
      ]
    },
    {
      "cell_type": "code",
      "source": [
        "#KNN"
      ],
      "metadata": {
        "id": "tCZirWAaJFzO"
      },
      "execution_count": 591,
      "outputs": []
    },
    {
      "cell_type": "code",
      "source": [
        "model8=KNeighborsRegressor(n_neighbors=30)"
      ],
      "metadata": {
        "id": "EjUtDjKOJPGh"
      },
      "execution_count": 592,
      "outputs": []
    },
    {
      "cell_type": "code",
      "source": [
        "model8.fit(x_train,y_train)"
      ],
      "metadata": {
        "colab": {
          "base_uri": "https://localhost:8080/"
        },
        "id": "HyiF71B_JVPq",
        "outputId": "792f3fbf-f628-4e89-c808-ecc6d6f514c1"
      },
      "execution_count": 593,
      "outputs": [
        {
          "output_type": "execute_result",
          "data": {
            "text/plain": [
              "KNeighborsRegressor(n_neighbors=30)"
            ]
          },
          "metadata": {},
          "execution_count": 593
        }
      ]
    },
    {
      "cell_type": "code",
      "source": [
        "model8.score(x_train,y_train)"
      ],
      "metadata": {
        "colab": {
          "base_uri": "https://localhost:8080/"
        },
        "id": "9pSukPpNJbaw",
        "outputId": "b0c347db-511f-4c3a-b33e-4020eb68231a"
      },
      "execution_count": 594,
      "outputs": [
        {
          "output_type": "execute_result",
          "data": {
            "text/plain": [
              "0.6869931432054543"
            ]
          },
          "metadata": {},
          "execution_count": 594
        }
      ]
    },
    {
      "cell_type": "code",
      "source": [
        "model8.score(x_test,y_test)"
      ],
      "metadata": {
        "colab": {
          "base_uri": "https://localhost:8080/"
        },
        "id": "txJ_6NFlJhnZ",
        "outputId": "e5f4b652-0d5c-4c31-e22a-0dcf72042e15"
      },
      "execution_count": 595,
      "outputs": [
        {
          "output_type": "execute_result",
          "data": {
            "text/plain": [
              "0.6608195406681352"
            ]
          },
          "metadata": {},
          "execution_count": 595
        }
      ]
    },
    {
      "cell_type": "code",
      "source": [
        "# SVR"
      ],
      "metadata": {
        "id": "xGKELtCZJ2E1"
      },
      "execution_count": 596,
      "outputs": []
    },
    {
      "cell_type": "code",
      "source": [
        "model9=SVR(kernel='linear',degree=15)"
      ],
      "metadata": {
        "id": "7_ZL4-ogKKYA"
      },
      "execution_count": 597,
      "outputs": []
    },
    {
      "cell_type": "code",
      "source": [
        "model9.fit(x_train,y_train)"
      ],
      "metadata": {
        "colab": {
          "base_uri": "https://localhost:8080/"
        },
        "id": "0z8sOxs_KOe3",
        "outputId": "7f0bbc0d-fd04-4890-b6c6-3ce0a93858b9"
      },
      "execution_count": 598,
      "outputs": [
        {
          "output_type": "execute_result",
          "data": {
            "text/plain": [
              "SVR(degree=15, kernel='linear')"
            ]
          },
          "metadata": {},
          "execution_count": 598
        }
      ]
    },
    {
      "cell_type": "code",
      "source": [
        "model9.score(x_train,y_train)"
      ],
      "metadata": {
        "colab": {
          "base_uri": "https://localhost:8080/"
        },
        "id": "43cZOTPZKVYE",
        "outputId": "a62a00e6-b4b8-445d-e3d9-a5b125b281fc"
      },
      "execution_count": 599,
      "outputs": [
        {
          "output_type": "execute_result",
          "data": {
            "text/plain": [
              "0.5467703694590125"
            ]
          },
          "metadata": {},
          "execution_count": 599
        }
      ]
    },
    {
      "cell_type": "code",
      "source": [
        "model9.score(x_test,y_test)"
      ],
      "metadata": {
        "colab": {
          "base_uri": "https://localhost:8080/"
        },
        "id": "BN1NodTyKY9J",
        "outputId": "50f00cc7-244f-4575-f92e-3f968b2b5b25"
      },
      "execution_count": 600,
      "outputs": [
        {
          "output_type": "execute_result",
          "data": {
            "text/plain": [
              "0.5405512095217653"
            ]
          },
          "metadata": {},
          "execution_count": 600
        }
      ]
    },
    {
      "cell_type": "code",
      "source": [
        "# Decision Tree Regression"
      ],
      "metadata": {
        "id": "lSR15Q89KcmL"
      },
      "execution_count": 601,
      "outputs": []
    },
    {
      "cell_type": "code",
      "source": [
        "model10=DecisionTreeRegressor(max_depth=6,min_samples_leaf=5)"
      ],
      "metadata": {
        "id": "_bv-lQKKye-t"
      },
      "execution_count": 602,
      "outputs": []
    },
    {
      "cell_type": "code",
      "source": [
        "model10.fit(x_train,y_train)"
      ],
      "metadata": {
        "colab": {
          "base_uri": "https://localhost:8080/"
        },
        "id": "hNfqcVA8ygwX",
        "outputId": "ce13eae8-4705-4a4e-e60d-fc3a718d425d"
      },
      "execution_count": 603,
      "outputs": [
        {
          "output_type": "execute_result",
          "data": {
            "text/plain": [
              "DecisionTreeRegressor(max_depth=6, min_samples_leaf=5)"
            ]
          },
          "metadata": {},
          "execution_count": 603
        }
      ]
    },
    {
      "cell_type": "code",
      "source": [
        "model10.score(x_train,y_train)"
      ],
      "metadata": {
        "colab": {
          "base_uri": "https://localhost:8080/"
        },
        "id": "4ldyuVjpymEP",
        "outputId": "56943b93-46ce-4498-9194-51da95891a16"
      },
      "execution_count": 604,
      "outputs": [
        {
          "output_type": "execute_result",
          "data": {
            "text/plain": [
              "0.6750196607245902"
            ]
          },
          "metadata": {},
          "execution_count": 604
        }
      ]
    },
    {
      "cell_type": "code",
      "source": [
        "model10.score(x_test,y_test)"
      ],
      "metadata": {
        "colab": {
          "base_uri": "https://localhost:8080/"
        },
        "id": "IEkpEK9ZypmQ",
        "outputId": "c738a7a8-a009-4806-ee05-4e70b2cec9cd"
      },
      "execution_count": 605,
      "outputs": [
        {
          "output_type": "execute_result",
          "data": {
            "text/plain": [
              "0.6581711677336171"
            ]
          },
          "metadata": {},
          "execution_count": 605
        }
      ]
    },
    {
      "cell_type": "code",
      "source": [
        "# Bagging Regression"
      ],
      "metadata": {
        "id": "RMaTzLwZyupm"
      },
      "execution_count": 606,
      "outputs": []
    },
    {
      "cell_type": "code",
      "source": [
        "model11=BaggingRegressor(n_estimators=5,max_samples=25)"
      ],
      "metadata": {
        "id": "Ibqq_nwAywKL"
      },
      "execution_count": 607,
      "outputs": []
    },
    {
      "cell_type": "code",
      "source": [
        "model11.fit(x_train,y_train)"
      ],
      "metadata": {
        "colab": {
          "base_uri": "https://localhost:8080/"
        },
        "id": "UqyUosL2zaIo",
        "outputId": "9e776c36-9644-4497-c0c5-5fa0b7e25dda"
      },
      "execution_count": 608,
      "outputs": [
        {
          "output_type": "execute_result",
          "data": {
            "text/plain": [
              "BaggingRegressor(max_samples=25, n_estimators=5)"
            ]
          },
          "metadata": {},
          "execution_count": 608
        }
      ]
    },
    {
      "cell_type": "code",
      "source": [
        "model11.score(x_train,y_train)"
      ],
      "metadata": {
        "colab": {
          "base_uri": "https://localhost:8080/"
        },
        "id": "sVa3Y8NF0LH2",
        "outputId": "157fa97f-c4d8-4381-d268-413d1f530f61"
      },
      "execution_count": 609,
      "outputs": [
        {
          "output_type": "execute_result",
          "data": {
            "text/plain": [
              "0.5845251823203867"
            ]
          },
          "metadata": {},
          "execution_count": 609
        }
      ]
    },
    {
      "cell_type": "code",
      "source": [
        "model11.score(x_test,y_test)"
      ],
      "metadata": {
        "colab": {
          "base_uri": "https://localhost:8080/"
        },
        "id": "l8VaDein0OP0",
        "outputId": "069afa35-7e62-473f-f333-5ec6206cb649"
      },
      "execution_count": 610,
      "outputs": [
        {
          "output_type": "execute_result",
          "data": {
            "text/plain": [
              "0.5842809334612173"
            ]
          },
          "metadata": {},
          "execution_count": 610
        }
      ]
    },
    {
      "cell_type": "code",
      "source": [
        "# Adaboost Regression"
      ],
      "metadata": {
        "id": "tsWgZRx10RzM"
      },
      "execution_count": 611,
      "outputs": []
    },
    {
      "cell_type": "code",
      "source": [
        "model12=AdaBoostRegressor(n_estimators=1,learning_rate=10,loss='exponential',random_state=0)"
      ],
      "metadata": {
        "id": "NQsMD7Pw0jgt"
      },
      "execution_count": 612,
      "outputs": []
    },
    {
      "cell_type": "code",
      "source": [
        "model12.fit(x_train,y_train)"
      ],
      "metadata": {
        "colab": {
          "base_uri": "https://localhost:8080/"
        },
        "id": "O4DCPw4g1f-w",
        "outputId": "3550fc3b-c234-4eb0-b9fb-e64420912bec"
      },
      "execution_count": 613,
      "outputs": [
        {
          "output_type": "execute_result",
          "data": {
            "text/plain": [
              "AdaBoostRegressor(learning_rate=10, loss='exponential', n_estimators=1,\n",
              "                  random_state=0)"
            ]
          },
          "metadata": {},
          "execution_count": 613
        }
      ]
    },
    {
      "cell_type": "code",
      "source": [
        "model12.score(x_train,y_train)"
      ],
      "metadata": {
        "colab": {
          "base_uri": "https://localhost:8080/"
        },
        "id": "MVeEt49-1jBE",
        "outputId": "82ff5256-8f3d-4402-d131-05cf278ff4b9"
      },
      "execution_count": 614,
      "outputs": [
        {
          "output_type": "execute_result",
          "data": {
            "text/plain": [
              "0.6147073504920204"
            ]
          },
          "metadata": {},
          "execution_count": 614
        }
      ]
    },
    {
      "cell_type": "code",
      "source": [
        "model12.score(x_test,y_test)"
      ],
      "metadata": {
        "colab": {
          "base_uri": "https://localhost:8080/"
        },
        "id": "kgjNPM1p1maw",
        "outputId": "025069c3-e088-454d-a474-42f40dcb3dfc"
      },
      "execution_count": 615,
      "outputs": [
        {
          "output_type": "execute_result",
          "data": {
            "text/plain": [
              "0.6015603685763167"
            ]
          },
          "metadata": {},
          "execution_count": 615
        }
      ]
    },
    {
      "cell_type": "code",
      "source": [
        "# Gradient Boost Regression"
      ],
      "metadata": {
        "id": "KRra1Sls1pnt"
      },
      "execution_count": 616,
      "outputs": []
    },
    {
      "cell_type": "code",
      "source": [
        "model13=GradientBoostingRegressor(n_estimators=550)"
      ],
      "metadata": {
        "id": "NChMidJI1rGi"
      },
      "execution_count": 617,
      "outputs": []
    },
    {
      "cell_type": "code",
      "source": [
        "model13.fit(x_train,y_train)"
      ],
      "metadata": {
        "colab": {
          "base_uri": "https://localhost:8080/"
        },
        "id": "1Kh8WsmU20ps",
        "outputId": "0db7d313-1165-41a5-d2ac-dc37ce256ee7"
      },
      "execution_count": 618,
      "outputs": [
        {
          "output_type": "execute_result",
          "data": {
            "text/plain": [
              "GradientBoostingRegressor(n_estimators=550)"
            ]
          },
          "metadata": {},
          "execution_count": 618
        }
      ]
    },
    {
      "cell_type": "code",
      "source": [
        "model13.score(x_train,y_train)"
      ],
      "metadata": {
        "colab": {
          "base_uri": "https://localhost:8080/"
        },
        "id": "RAcGgiKV25lD",
        "outputId": "b74b7ee0-11be-4cf4-eca8-617a7ac860c4"
      },
      "execution_count": 619,
      "outputs": [
        {
          "output_type": "execute_result",
          "data": {
            "text/plain": [
              "0.705557123022292"
            ]
          },
          "metadata": {},
          "execution_count": 619
        }
      ]
    },
    {
      "cell_type": "code",
      "source": [
        "model13.score(x_test,y_test)"
      ],
      "metadata": {
        "colab": {
          "base_uri": "https://localhost:8080/"
        },
        "id": "kGpR7AZM2_u8",
        "outputId": "29b67e7d-e1f3-4b73-9a30-b677c2c804b1"
      },
      "execution_count": 620,
      "outputs": [
        {
          "output_type": "execute_result",
          "data": {
            "text/plain": [
              "0.6620241680627514"
            ]
          },
          "metadata": {},
          "execution_count": 620
        }
      ]
    },
    {
      "cell_type": "code",
      "source": [
        "# Random Forest regression"
      ],
      "metadata": {
        "id": "6shMCDCj3DFU"
      },
      "execution_count": 621,
      "outputs": []
    },
    {
      "cell_type": "code",
      "source": [
        "model14=RandomForestRegressor(max_depth=5)"
      ],
      "metadata": {
        "id": "hX_-Xx_-3FZi"
      },
      "execution_count": 622,
      "outputs": []
    },
    {
      "cell_type": "code",
      "source": [
        "model14.fit(x_train,y_train)"
      ],
      "metadata": {
        "colab": {
          "base_uri": "https://localhost:8080/"
        },
        "id": "kZlgAbua4hT8",
        "outputId": "f1ee6c15-4844-4826-eb5c-0a3ed253bf04"
      },
      "execution_count": 623,
      "outputs": [
        {
          "output_type": "execute_result",
          "data": {
            "text/plain": [
              "RandomForestRegressor(max_depth=5)"
            ]
          },
          "metadata": {},
          "execution_count": 623
        }
      ]
    },
    {
      "cell_type": "code",
      "source": [
        "model14.score(x_train,y_train)"
      ],
      "metadata": {
        "colab": {
          "base_uri": "https://localhost:8080/"
        },
        "id": "vaSQM5zg4kH9",
        "outputId": "16589ce1-fcc6-4a17-8d0f-23f8eba2038c"
      },
      "execution_count": 624,
      "outputs": [
        {
          "output_type": "execute_result",
          "data": {
            "text/plain": [
              "0.6727444562530895"
            ]
          },
          "metadata": {},
          "execution_count": 624
        }
      ]
    },
    {
      "cell_type": "code",
      "source": [
        "model14.score(x_test,y_test)"
      ],
      "metadata": {
        "colab": {
          "base_uri": "https://localhost:8080/"
        },
        "id": "jRCvWo964nae",
        "outputId": "99fa1494-d29e-474d-b599-40be1cef9f26"
      },
      "execution_count": 625,
      "outputs": [
        {
          "output_type": "execute_result",
          "data": {
            "text/plain": [
              "0.6596656876968185"
            ]
          },
          "metadata": {},
          "execution_count": 625
        }
      ]
    },
    {
      "cell_type": "code",
      "source": [],
      "metadata": {
        "id": "nkuun05c8Grn"
      },
      "execution_count": 625,
      "outputs": []
    },
    {
      "cell_type": "code",
      "source": [
        "# In Taxi Fare Prediction we need to predict a value which ranges from (0,inf) although inf is not practically possible.\n",
        "# Hence for such prediction we used regressors which are used to predict better in case of ranges."
      ],
      "metadata": {
        "id": "e_dfE32TATpw"
      },
      "execution_count": 627,
      "outputs": []
    },
    {
      "cell_type": "code",
      "source": [
        "# In this Taxi Fare Prediction the data is very small with only three information columns i.e. number of passengers and both coordinates change\n",
        "# Such small dataset(in terms of columns) may not acheive a very good score as they doesn't have good scope to ommit a non fitting column \n",
        "# Hence the best fitting model came out to be Gradient Boost Algorithm\n",
        "# Gradient Boost got a score of 70% vs 66.2%\n",
        "# Gradient Boost got such score as gradient boosting is a tree based regressor which improve its previous error.\n",
        "# In contrast to Adaboost, the weights of the training instances are not tweaked, instead, each predictor is trained using the residual errors of predecessor as labels.\n",
        "# Hence for the dataset Taxi Fare Prediction GRADIENT BOOSTING is best possible."
      ],
      "metadata": {
        "id": "L3lx8Xrz8GWe"
      },
      "execution_count": 628,
      "outputs": []
    },
    {
      "cell_type": "code",
      "source": [],
      "metadata": {
        "id": "w-eYN0PcClg7"
      },
      "execution_count": null,
      "outputs": []
    }
  ],
  "metadata": {
    "colab": {
      "provenance": []
    },
    "kernelspec": {
      "display_name": "Python 3",
      "name": "python3"
    },
    "language_info": {
      "name": "python"
    }
  },
  "nbformat": 4,
  "nbformat_minor": 0
}